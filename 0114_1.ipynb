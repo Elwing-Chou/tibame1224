{
  "nbformat": 4,
  "nbformat_minor": 0,
  "metadata": {
    "colab": {
      "provenance": [],
      "authorship_tag": "ABX9TyMHVtmRH/Fk0DCer0okrG4h",
      "include_colab_link": true
    },
    "kernelspec": {
      "name": "python3",
      "display_name": "Python 3"
    },
    "language_info": {
      "name": "python"
    }
  },
  "cells": [
    {
      "cell_type": "markdown",
      "metadata": {
        "id": "view-in-github",
        "colab_type": "text"
      },
      "source": [
        "<a href=\"https://colab.research.google.com/github/Elwing-Chou/tibame1224/blob/main/0114_1.ipynb\" target=\"_parent\"><img src=\"https://colab.research.google.com/assets/colab-badge.svg\" alt=\"Open In Colab\"/></a>"
      ]
    },
    {
      "cell_type": "markdown",
      "source": [
        "HTTP代碼\n",
        "\n",
        "```python\n",
        "2開頭: 成功\n",
        "\n",
        "3開頭: 轉址\n",
        "對面的網址已經搬家了, 雖然妳還是輸入舊網址, 但她會自動幫你替換成新網址\n",
        "\n",
        "4開頭: 錯誤\n",
        "\n",
        "404: Not Found\n",
        "!!! 最常見: 網址打錯\n",
        "403: Forbidden\n",
        "!!! 原因1: ip ban\n",
        "!!! 通常是數次的惡意行為(可能是短時間送太多...)\n",
        "!!! 解法: 等待/換ip\n",
        "!!! 原因2: 妳學的不像瀏覽器\n",
        "!!! 解法: 學的像一點(headers完善)\n",
        "\n",
        "```"
      ],
      "metadata": {
        "id": "-06e5DFMWKjF"
      }
    },
    {
      "cell_type": "markdown",
      "source": [
        "Header\n",
        "\n",
        "```python\n",
        "妳在送出網址的時候, 其實不只送出網址\n",
        "妳送出的是 網址+額外信息(request headers)\n",
        "\n",
        "妳在得到回應的時候, 其實不是只有得到回應\n",
        "回應+額外信息(response headers)\n",
        "```"
      ],
      "metadata": {
        "id": "e8-XxkW4YNu6"
      }
    },
    {
      "cell_type": "code",
      "execution_count": 3,
      "metadata": {
        "colab": {
          "base_uri": "https://localhost:8080/"
        },
        "id": "hfeMOb-nViHe",
        "outputId": "40bb52e2-5bbc-4394-bb29-4648a1ed16a4"
      },
      "outputs": [
        {
          "output_type": "execute_result",
          "data": {
            "text/plain": [
              "<!DOCTYPE html>\n",
              "<html>\n",
              "<head>\n",
              "<meta charset=\"utf-8\"/>\n",
              "<meta content=\"width=device-width, initial-scale=1\" name=\"viewport\"/>\n",
              "<title>[正妹] Cosplay 1601 日本 約兒 - 看板 Beauty - 批踢踢實業坊</title>\n",
              "<meta content=\"all\" name=\"robots\"/>\n",
              "<meta content=\"Ptt BBS 批踢踢\" name=\"keywords\"/>\n",
              "<meta content=\"1.https://i.imgur.com/8faNwgb.jpeg\n",
              "2.https://i.imgur.com/rpZUMmG.jpeg\n",
              "3.https://i.imgur.com/zUZ9B5s.jpeg\n",
              "4.https://i.imgur.com/75KUcE9.jpeg\n",
              "5.https://i.imgur.com/K2Opa49.jpeg\n",
              "\" name=\"description\"/>\n",
              "<meta content=\"Ptt 批踢踢實業坊\" property=\"og:site_name\"/>\n",
              "<meta content=\"[正妹] Cosplay 1601 日本 約兒\" property=\"og:title\"/>\n",
              "<meta content=\"1.https://i.imgur.com/8faNwgb.jpeg\n",
              "2.https://i.imgur.com/rpZUMmG.jpeg\n",
              "3.https://i.imgur.com/zUZ9B5s.jpeg\n",
              "4.https://i.imgur.com/75KUcE9.jpeg\n",
              "5.https://i.imgur.com/K2Opa49.jpeg\n",
              "\" property=\"og:description\"/>\n",
              "<link href=\"https://www.ptt.cc/bbs/Beauty/M.1736755829.A.02A.html\" rel=\"canonical\"/>\n",
              "<link href=\"//images.ptt.cc/bbs/v2.27/bbs-common.css\" rel=\"stylesheet\" type=\"text/css\"/>\n",
              "<link href=\"//images.ptt.cc/bbs/v2.27/bbs-base.css\" media=\"screen\" rel=\"stylesheet\" type=\"text/css\"/>\n",
              "<link href=\"//images.ptt.cc/bbs/v2.27/bbs-custom.css\" rel=\"stylesheet\" type=\"text/css\"/>\n",
              "<link href=\"//images.ptt.cc/bbs/v2.27/pushstream.css\" media=\"screen\" rel=\"stylesheet\" type=\"text/css\"/>\n",
              "<link href=\"//images.ptt.cc/bbs/v2.27/bbs-print.css\" media=\"print\" rel=\"stylesheet\" type=\"text/css\"/>\n",
              "<script>\n",
              "(() => {\n",
              "    if (document.cookie.indexOf('over18=1') === -1) {\n",
              "\tlocation = 'https://www.ptt.cc/ask/over18?from=' + encodeURIComponent(location.pathname);\n",
              "    }\n",
              "})();\n",
              "</script>\n",
              "</head>\n",
              "<body>\n",
              "<div id=\"topbar-container\">\n",
              "<div class=\"bbs-content\" id=\"topbar\">\n",
              "<a href=\"/bbs/\" id=\"logo\">批踢踢實業坊</a>\n",
              "<span>›</span>\n",
              "<a class=\"board\" href=\"/bbs/Beauty/index.html\"><span class=\"board-label\">看板 </span>Beauty</a>\n",
              "<a class=\"right small\" href=\"/about.html\">關於我們</a>\n",
              "<a class=\"right small\" href=\"/contact.html\">聯絡資訊</a>\n",
              "</div>\n",
              "</div>\n",
              "<div id=\"navigation-container\">\n",
              "<div class=\"bbs-content\" id=\"navigation\">\n",
              "<a class=\"board\" href=\"/bbs/Beauty/index.html\">返回看板</a>\n",
              "<div class=\"bar\"></div>\n",
              "</div>\n",
              "</div>\n",
              "<div id=\"main-container\">\n",
              "<div class=\"bbs-screen bbs-content\" id=\"main-content\"><div class=\"article-metaline\"><span class=\"article-meta-tag\">作者</span><span class=\"article-meta-value\">Gentlemon (肥宅紳士)</span></div><div class=\"article-metaline-right\"><span class=\"article-meta-tag\">看板</span><span class=\"article-meta-value\">Beauty</span></div><div class=\"article-metaline\"><span class=\"article-meta-tag\">標題</span><span class=\"article-meta-value\">[正妹] Cosplay 1601 日本 約兒</span></div><div class=\"article-metaline\"><span class=\"article-meta-tag\">時間</span><span class=\"article-meta-value\">Mon Jan 13 16:10:23 2025</span></div>\n",
              "\n",
              "\n",
              "\n",
              "1.<a href=\"https://i.imgur.com/8faNwgb.jpeg\" rel=\"noreferrer noopener nofollow\" target=\"_blank\">https://i.imgur.com/8faNwgb.jpeg</a>\n",
              "<div class=\"richcontent\"><img alt=\"\" loading=\"lazy\" src=\"https://cache.ptt.cc/c/https/i.imgur.com/8faNwgbl.jpeg?e=1737009916&amp;s=XrGL8ZY8j9THstSU-YhOFw\"/></div>2.<a href=\"https://i.imgur.com/rpZUMmG.jpeg\" rel=\"noreferrer noopener nofollow\" target=\"_blank\">https://i.imgur.com/rpZUMmG.jpeg</a>\n",
              "<div class=\"richcontent\"><img alt=\"\" loading=\"lazy\" src=\"https://cache.ptt.cc/c/https/i.imgur.com/rpZUMmGl.jpeg?e=1736979871&amp;s=5cdg-i1E-annlTvxLKn1nQ\"/></div>3.<a href=\"https://i.imgur.com/zUZ9B5s.jpeg\" rel=\"noreferrer noopener nofollow\" target=\"_blank\">https://i.imgur.com/zUZ9B5s.jpeg</a>\n",
              "<div class=\"richcontent\"><img alt=\"\" loading=\"lazy\" src=\"https://cache.ptt.cc/c/https/i.imgur.com/zUZ9B5sl.jpeg?e=1736991263&amp;s=fK9-pFYbYglQXeEPinGBGQ\"/></div>4.<a href=\"https://i.imgur.com/75KUcE9.jpeg\" rel=\"noreferrer noopener nofollow\" target=\"_blank\">https://i.imgur.com/75KUcE9.jpeg</a>\n",
              "<div class=\"richcontent\"><img alt=\"\" loading=\"lazy\" src=\"https://cache.ptt.cc/c/https/i.imgur.com/75KUcE9l.jpeg?e=1736974168&amp;s=LowOZ4BiEFGr8CJq0ZvfzQ\"/></div>5.<a href=\"https://i.imgur.com/K2Opa49.jpeg\" rel=\"noreferrer noopener nofollow\" target=\"_blank\">https://i.imgur.com/K2Opa49.jpeg</a>\n",
              "<div class=\"richcontent\"><img alt=\"\" loading=\"lazy\" src=\"https://cache.ptt.cc/c/https/i.imgur.com/K2Opa49l.jpeg?e=1736973575&amp;s=jXb128EDX9_IQaZPX8zVGw\"/></div>6.<a href=\"https://i.imgur.com/4A1dcrn.jpeg\" rel=\"noreferrer noopener nofollow\" target=\"_blank\">https://i.imgur.com/4A1dcrn.jpeg</a>\n",
              "<div class=\"richcontent\"><img alt=\"\" loading=\"lazy\" src=\"https://cache.ptt.cc/c/https/i.imgur.com/4A1dcrnl.jpeg?e=1737007664&amp;s=1Xh0YZmqWbYo2pfjsTv3yQ\"/></div>7.<a href=\"https://i.imgur.com/aMffLCP.jpeg\" rel=\"noreferrer noopener nofollow\" target=\"_blank\">https://i.imgur.com/aMffLCP.jpeg</a>\n",
              "<div class=\"richcontent\"><img alt=\"\" loading=\"lazy\" src=\"https://cache.ptt.cc/c/https/i.imgur.com/aMffLCPl.jpeg?e=1736980646&amp;s=Vgnw0YgZHLmBxcYK4fdpNQ\"/></div>8.<a href=\"https://i.imgur.com/QRHBsSA.jpeg\" rel=\"noreferrer noopener nofollow\" target=\"_blank\">https://i.imgur.com/QRHBsSA.jpeg</a>\n",
              "<div class=\"richcontent\"><img alt=\"\" loading=\"lazy\" src=\"https://cache.ptt.cc/c/https/i.imgur.com/QRHBsSAl.jpeg?e=1737000127&amp;s=y3mKXysm5EOrEM_hYCQSww\"/></div>9.<a href=\"https://i.imgur.com/FFAQ7w9.jpeg\" rel=\"noreferrer noopener nofollow\" target=\"_blank\">https://i.imgur.com/FFAQ7w9.jpeg</a>\n",
              "<div class=\"richcontent\"><img alt=\"\" loading=\"lazy\" src=\"https://cache.ptt.cc/c/https/i.imgur.com/FFAQ7w9l.jpeg?e=1737029700&amp;s=iMCh80NkdZot6lNcfpKWsw\"/></div>10.<a href=\"https://i.imgur.com/8EEuv2D.jpeg\" rel=\"noreferrer noopener nofollow\" target=\"_blank\">https://i.imgur.com/8EEuv2D.jpeg</a>\n",
              "<div class=\"richcontent\"><img alt=\"\" loading=\"lazy\" src=\"https://cache.ptt.cc/c/https/i.imgur.com/8EEuv2Dl.jpeg?e=1736979088&amp;s=8J_HnuznoIRyaHsyHuxk5g\"/></div>\n",
              "\n",
              "I do not own these pics, please follow twitter/Ins\n",
              "KiraraPrincess_\n",
              "\n",
              "\n",
              "\n",
              "\n",
              "--\n",
              "<a href=\"https://i.imgur.com/e8dN5uA.png\" rel=\"noreferrer noopener nofollow\" target=\"_blank\">https://i.imgur.com/e8dN5uA.png</a>\n",
              "<div class=\"richcontent\"><img alt=\"\" loading=\"lazy\" src=\"https://cache.ptt.cc/c/https/i.imgur.com/e8dN5uAl.png?e=1736981448&amp;s=u8oraba8yoiaMW5gGczMqQ\"/></div>\n",
              "\n",
              "--\n",
              "<span class=\"f2\">※ 發信站: 批踢踢實業坊(ptt.cc), 來自: 61.228.176.199 (臺灣)\n",
              "</span><span class=\"f2\">※ 文章網址: <a href=\"https://www.ptt.cc/bbs/Beauty/M.1736755829.A.02A.html\" rel=\"noreferrer noopener nofollow\" target=\"_blank\">https://www.ptt.cc/bbs/Beauty/M.1736755829.A.02A.html</a>\n",
              "</span><div class=\"push\"><span class=\"hl push-tag\">推 </span><span class=\"f3 hl push-userid\">jht</span><span class=\"f3 push-content\">: 大長腿</span><span class=\"push-ipdatetime\"> 223.138.43.159 01/13 17:00\n",
              "</span></div><div class=\"push\"><span class=\"hl push-tag\">推 </span><span class=\"f3 hl push-userid\">bio5chris</span><span class=\"f3 push-content\">: 好！！！</span><span class=\"push-ipdatetime\">223.138.217.143 01/13 20:30\n",
              "</span></div><div class=\"push\"><span class=\"f1 hl push-tag\">→ </span><span class=\"f3 hl push-userid\">bingreen</span><span class=\"f3 push-content\">: 長</span><span class=\"push-ipdatetime\">  42.77.205.118 01/13 21:13\n",
              "</span></div><div class=\"push\"><span class=\"hl push-tag\">推 </span><span class=\"f3 hl push-userid\">sikadear</span><span class=\"f3 push-content\">: 讚</span><span class=\"push-ipdatetime\">  36.229.51.166 01/13 21:34\n",
              "</span></div></div>\n",
              "<div data-longpollurl=\"/v1/longpoll?id=e710b0f3ae8b9e933f391a50a1b8500607ad131e\" data-offset=\"1111\" data-pollurl=\"/poll/Beauty/M.1736755829.A.02A.html?cacheKey=2148-606092501&amp;offset=1111&amp;offset-sig=0f0bb8ac7228ebcbb3d95d880646a20f2a66e09d\" id=\"article-polling\"></div>\n",
              "<div class=\"bbs-screen bbs-footer-message\">本網站已依台灣網站內容分級規定處理。此區域為限制級，未滿十八歲者不得瀏覽。</div>\n",
              "</div>\n",
              "<script async=\"\" src=\"https://www.googletagmanager.com/gtag/js?id=G-DZ6Y3BY9GW\"></script>\n",
              "<script>\n",
              "      window.dataLayer = window.dataLayer || [];\n",
              "      function gtag(){dataLayer.push(arguments);}\n",
              "      gtag('js', new Date());\n",
              "\n",
              "      gtag('config', 'G-DZ6Y3BY9GW');\n",
              "</script>\n",
              "<script>\n",
              "  (function(i,s,o,g,r,a,m){i['GoogleAnalyticsObject']=r;i[r]=i[r]||function(){\n",
              "  (i[r].q=i[r].q||[]).push(arguments)},i[r].l=1*new Date();a=s.createElement(o),\n",
              "  m=s.getElementsByTagName(o)[0];a.async=1;a.src=g;m.parentNode.insertBefore(a,m)\n",
              "  })(window,document,'script','https://www.google-analytics.com/analytics.js','ga');\n",
              "\n",
              "  ga('create', 'UA-32365737-1', {\n",
              "    cookieDomain: 'ptt.cc',\n",
              "    legacyCookieDomain: 'ptt.cc'\n",
              "  });\n",
              "  ga('send', 'pageview');\n",
              "</script>\n",
              "<script src=\"//ajax.googleapis.com/ajax/libs/jquery/2.1.1/jquery.min.js\"></script>\n",
              "<script src=\"//images.ptt.cc/bbs/v2.27/bbs.js\"></script>\n",
              "<script>(function(){function c(){var b=a.contentDocument||a.contentWindow.document;if(b){var d=b.createElement('script');d.innerHTML=\"window.__CF$cv$params={r:'901b72760dd4204b',t:'MTczNjgzNDg2MC4wMDAwMDA='};var a=document.createElement('script');a.nonce='';a.src='/cdn-cgi/challenge-platform/scripts/jsd/main.js';document.getElementsByTagName('head')[0].appendChild(a);\";b.getElementsByTagName('head')[0].appendChild(d)}}if(document.body){var a=document.createElement('iframe');a.height=1;a.width=1;a.style.position='absolute';a.style.top=0;a.style.left=0;a.style.border='none';a.style.visibility='hidden';document.body.appendChild(a);if('loading'!==document.readyState)c();else if(window.addEventListener)document.addEventListener('DOMContentLoaded',c);else{var e=document.onreadystatechange||function(){};document.onreadystatechange=function(b){e(b);'loading'!==document.readyState&&(document.onreadystatechange=e,c())}}}})();</script></body>\n",
              "</html>"
            ]
          },
          "metadata": {},
          "execution_count": 3
        }
      ],
      "source": [
        "import urllib.request as req\n",
        "import bs4 as bs\n",
        "\n",
        "url = \"https://www.ptt.cc/bbs/Beauty/M.1736755829.A.02A.html\"\n",
        "r = req.Request(url)\n",
        "r.add_header(\"User-Agent\", \"Mozilla/5.0 (Windows NT 10.0; Win64; x64) AppleWebKit/537.36 (KHTML, like Gecko) Chrome/131.0.0.0 Safari/537.36 Edg/131.0.0.0\")\n",
        "\n",
        "response = req.urlopen(r)\n",
        "bs.BeautifulSoup(response)"
      ]
    }
  ]
}