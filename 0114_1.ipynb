{
  "nbformat": 4,
  "nbformat_minor": 0,
  "metadata": {
    "colab": {
      "provenance": [],
      "authorship_tag": "ABX9TyMWUsCPksHDYaDyfw7A8il/",
      "include_colab_link": true
    },
    "kernelspec": {
      "name": "python3",
      "display_name": "Python 3"
    },
    "language_info": {
      "name": "python"
    }
  },
  "cells": [
    {
      "cell_type": "markdown",
      "metadata": {
        "id": "view-in-github",
        "colab_type": "text"
      },
      "source": [
        "<a href=\"https://colab.research.google.com/github/Elwing-Chou/tibame1224/blob/main/0114_1.ipynb\" target=\"_parent\"><img src=\"https://colab.research.google.com/assets/colab-badge.svg\" alt=\"Open In Colab\"/></a>"
      ]
    },
    {
      "cell_type": "markdown",
      "source": [
        "HTTP代碼\n",
        "\n",
        "```python\n",
        "2開頭: 成功\n",
        "\n",
        "3開頭: 轉址\n",
        "對面的網址已經搬家了, 雖然妳還是輸入舊網址, 但她會自動幫你替換成新網址\n",
        "\n",
        "4開頭: 錯誤\n",
        "\n",
        "404: Not Found\n",
        "!!! 最常見: 網址打錯\n",
        "403: Forbidden\n",
        "!!! 原因1: ip ban\n",
        "!!! 通常是數次的惡意行為(可能是短時間送太多...)\n",
        "!!! 解法: 等待/換ip\n",
        "!!! 原因2: 妳學的不像瀏覽器\n",
        "!!! 解法: 學的像一點(headers完善)\n",
        "\n",
        "```"
      ],
      "metadata": {
        "id": "-06e5DFMWKjF"
      }
    },
    {
      "cell_type": "markdown",
      "source": [
        "Header\n",
        "\n",
        "```python\n",
        "妳在送出網址的時候, 其實不只送出網址\n",
        "妳送出的是 網址+額外信息(request headers)\n",
        "\n",
        "妳在得到回應的時候, 其實不是只有得到回應\n",
        "回應+額外信息(response headers)\n",
        "```"
      ],
      "metadata": {
        "id": "e8-XxkW4YNu6"
      }
    },
    {
      "cell_type": "code",
      "execution_count": 7,
      "metadata": {
        "colab": {
          "base_uri": "https://localhost:8080/"
        },
        "id": "hfeMOb-nViHe",
        "outputId": "73e2e391-e4c3-4bd2-a920-33a19768a03a"
      },
      "outputs": [
        {
          "output_type": "stream",
          "name": "stdout",
          "text": [
            "https://i.imgur.com/8faNwgb.jpeg\n",
            "https://i.imgur.com/rpZUMmG.jpeg\n",
            "https://i.imgur.com/zUZ9B5s.jpeg\n",
            "https://i.imgur.com/75KUcE9.jpeg\n",
            "https://i.imgur.com/K2Opa49.jpeg\n",
            "https://i.imgur.com/4A1dcrn.jpeg\n",
            "https://i.imgur.com/aMffLCP.jpeg\n",
            "https://i.imgur.com/QRHBsSA.jpeg\n",
            "https://i.imgur.com/FFAQ7w9.jpeg\n",
            "https://i.imgur.com/8EEuv2D.jpeg\n",
            "https://i.imgur.com/e8dN5uA.png\n"
          ]
        }
      ],
      "source": [
        "import urllib.request as req\n",
        "import bs4 as bs\n",
        "\n",
        "url = \"https://www.ptt.cc/bbs/Beauty/M.1736755829.A.02A.html\"\n",
        "r = req.Request(url)\n",
        "r.add_header(\"User-Agent\", \"Mozilla/5.0 (Windows NT 10.0; Win64; x64) AppleWebKit/537.36 (KHTML, like Gecko) Chrome/131.0.0.0 Safari/537.36 Edg/131.0.0.0\")\n",
        "\n",
        "response = req.urlopen(r)\n",
        "html = bs.BeautifulSoup(response)\n",
        "\n",
        "# 如果沒有class的話\n",
        "# 1. 找她老爸\n",
        "# 2. 自己寫篩選方式(!!!!!)\n",
        "allow_subname = [\"jpg\", \"jpeg\", \"png\", \"gif\"]\n",
        "links = html.find_all(\"a\")\n",
        "for l in links:\n",
        "    href = l[\"href\"]\n",
        "    subname = href.split(\".\")[-1]\n",
        "    if subname.lower() in allow_subname:\n",
        "        print(href)"
      ]
    }
  ]
}