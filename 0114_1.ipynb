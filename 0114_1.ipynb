{
  "nbformat": 4,
  "nbformat_minor": 0,
  "metadata": {
    "colab": {
      "provenance": [],
      "authorship_tag": "ABX9TyNnQxuomGnmCoetGsTmMhNN",
      "include_colab_link": true
    },
    "kernelspec": {
      "name": "python3",
      "display_name": "Python 3"
    },
    "language_info": {
      "name": "python"
    }
  },
  "cells": [
    {
      "cell_type": "markdown",
      "metadata": {
        "id": "view-in-github",
        "colab_type": "text"
      },
      "source": [
        "<a href=\"https://colab.research.google.com/github/Elwing-Chou/tibame1224/blob/main/0114_1.ipynb\" target=\"_parent\"><img src=\"https://colab.research.google.com/assets/colab-badge.svg\" alt=\"Open In Colab\"/></a>"
      ]
    },
    {
      "cell_type": "markdown",
      "source": [
        "HTTP代碼\n",
        "\n",
        "```python\n",
        "2開頭: 成功\n",
        "\n",
        "3開頭: 轉址\n",
        "對面的網址已經搬家了, 雖然妳還是輸入舊網址, 但她會自動幫你替換成新網址\n",
        "\n",
        "4開頭: 錯誤\n",
        "\n",
        "404: Not Found\n",
        "!!! 最常見: 網址打錯\n",
        "403: Forbidden\n",
        "!!! 原因1: ip ban\n",
        "!!! 通常是數次的惡意行為(可能是短時間送太多...)\n",
        "!!! 解法: 等待/換ip\n",
        "!!! 原因2: 妳學的不像瀏覽器\n",
        "!!! 解法: 學的像一點(headers完善)\n",
        "\n",
        "```"
      ],
      "metadata": {
        "id": "-06e5DFMWKjF"
      }
    },
    {
      "cell_type": "markdown",
      "source": [
        "Header\n",
        "\n",
        "```python\n",
        "妳在送出網址的時候, 其實不只送出網址\n",
        "妳送出的是 網址+額外信息(request headers)\n",
        "\n",
        "妳在得到回應的時候, 其實不是只有得到回應\n",
        "回應+額外信息(response headers)\n",
        "```"
      ],
      "metadata": {
        "id": "e8-XxkW4YNu6"
      }
    },
    {
      "cell_type": "markdown",
      "source": [
        "處理檔案\n",
        "\n",
        "```python\n",
        "1. 純文字(TXT)\n",
        "open(...., \"r\" or \"w\", encoding=\"utf-8\")\n",
        "\n",
        "2. 非純文字(圖片/pdf/doc....)\n",
        "open(...., \"rb\" or \"wb\")\n",
        "\n",
        "```"
      ],
      "metadata": {
        "id": "L90R7zkkjSms"
      }
    },
    {
      "cell_type": "markdown",
      "source": [
        "```python\n",
        "!!!! 下次檢討\n",
        "\n",
        "把整頁的的文章的圖片都下載, 並且放在不同資料夾裡\n",
        "!!! 網址是縮寫的\n",
        "!!! 有些文章是被刪文的\n",
        "```"
      ],
      "metadata": {
        "id": "2r--LjEV740E"
      }
    },
    {
      "cell_type": "code",
      "execution_count": null,
      "metadata": {
        "id": "hfeMOb-nViHe"
      },
      "outputs": [],
      "source": [
        "import urllib.request as req\n",
        "import bs4 as bs\n",
        "\n",
        "url = \"https://www.ptt.cc/bbs/Beauty/M.1736755829.A.02A.html\"\n",
        "r = req.Request(url)\n",
        "r.add_header(\"User-Agent\", \"Mozilla/5.0 (Windows NT 10.0; Win64; x64) AppleWebKit/537.36 (KHTML, like Gecko) Chrome/131.0.0.0 Safari/537.36 Edg/131.0.0.0\")\n",
        "\n",
        "response = req.urlopen(r)\n",
        "html = bs.BeautifulSoup(response)\n",
        "\n",
        "# 如果沒有class的話\n",
        "# 1. 找她老爸\n",
        "# 2. 自己寫篩選方式(!!!!!)\n",
        "allow_subname = [\"jpg\", \"jpeg\", \"png\", \"gif\"]\n",
        "links = html.find_all(\"a\")\n",
        "for l in links:\n",
        "    href = l[\"href\"]\n",
        "    subname = href.split(\".\")[-1]\n",
        "    if subname.lower() in allow_subname:\n",
        "        r = req.Request(href)\n",
        "        r.add_header(\"User-Agent\", \"Mozilla/5.0 (Windows NT 10.0; Win64; x64) AppleWebKit/537.36 (KHTML, like Gecko) Chrome/131.0.0.0 Safari/537.36 Edg/131.0.0.0\")\n",
        "        img = req.urlopen(r)\n",
        "        # open一個新檔案來儲存\n",
        "        fname = href.split(\"/\")[-1]\n",
        "        f = open(fname, \"wb\")\n",
        "        f.write(img.read())\n",
        "        f.close()\n",
        "        # print(img.read())\n",
        "        # print(\"-\" * 30)"
      ]
    },
    {
      "cell_type": "code",
      "source": [
        "# open\n",
        "import os\n",
        "# 如果這個資料夾不存在\n",
        "# 為何是os.path->下次說\n",
        "if not os.path.exists(\"test/test2\"):\n",
        "    # 把它創造出來\n",
        "    os.makedirs(\"test/test2\")\n",
        "\n",
        "f = open(\"test/test2/a.txt\", \"w\", encoding=\"utf-8\")\n",
        "f.write(\"abcede\")\n",
        "f.close()"
      ],
      "metadata": {
        "id": "QX3borj24Yio"
      },
      "execution_count": null,
      "outputs": []
    },
    {
      "cell_type": "code",
      "source": [
        "# 練習: 拿其他的\n",
        "import os\n",
        "import json\n",
        "import urllib.request as req\n",
        "import bs4 as bs\n",
        "\n",
        "url = \"https://www.ptt.cc/bbs/Beauty/M.1736733511.A.738.html\"\n",
        "# 順便準備一下等一下要儲存的檔案名稱\n",
        "url_split = url.split(\"/\")\n",
        "fname = url_split[-1] + \".json\"\n",
        "dirname = url_split[-2]\n",
        "# 記得要先創資料夾, 不然紅字\n",
        "if not os.path.exists(dirname):\n",
        "    os.makedirs(dirname)\n",
        "fpath = dirname + \"/\" + fname\n",
        "\n",
        "r = req.Request(url)\n",
        "r.add_header(\"User-Agent\", \"Mozilla/5.0 (Windows NT 10.0; Win64; x64) AppleWebKit/537.36 (KHTML, like Gecko) Chrome/131.0.0.0 Safari/537.36 Edg/131.0.0.0\")\n",
        "\n",
        "response = req.urlopen(r)\n",
        "html = bs.BeautifulSoup(response)\n",
        "\n",
        "meta_list = html.find_all(\"span\", {\"class\":\"article-meta-value\"})\n",
        "\n",
        "ptt_id = meta_list[0].text\n",
        "if \"(\" in ptt_id:\n",
        "    ptt_id_split = ptt_id.split(\"(\")\n",
        "    ptt_id = ptt_id_split[0].strip()\n",
        "    nick_name = ptt_id_split[-1].replace(\")\", \"\")\n",
        "else:\n",
        "    nick_name = \"\"\n",
        "board = meta_list[1].text\n",
        "title = meta_list[2].text\n",
        "if title[0] == \"[\":\n",
        "    title_split = title.split(\"]\")\n",
        "    category = title_split[0].replace(\"[\", \"\")\n",
        "    title = title_split[-1].strip()\n",
        "else:\n",
        "    category = \"\"\n",
        "date = meta_list[3].text\n",
        "\n",
        "# 存檔的時候肯定是來個JSON\n",
        "data = {\n",
        "    \"id\":ptt_id,\n",
        "    \"nickname\":nick_name,\n",
        "    \"board\":board,\n",
        "    \"category\":category,\n",
        "    \"title\":title,\n",
        "    \"data\":date,\n",
        "    \"push\":[]\n",
        "}\n",
        "\n",
        "print(\"作者:\", ptt_id)\n",
        "print(\"當時暱稱:\", nick_name)\n",
        "print(\"看板:\", board)\n",
        "print(\"分類:\", category)\n",
        "print(\"標題:\", title)\n",
        "print(\"時間:\", date)\n",
        "\n",
        "\n",
        "push_list = html.find_all(\"div\", {\"class\":\"push\"})\n",
        "for push in push_list:\n",
        "    push_meta = push.find_all(\"span\")\n",
        "    push_type = push_meta[0].text.strip()\n",
        "    push_ptt_id = push_meta[1].text.strip()\n",
        "    push_content = push_meta[2].text.replace(\": \", \"\").strip()\n",
        "    push_ip_date = push_meta[3].text.strip()\n",
        "    print(push_type, push_ptt_id, push_content, push_ip_date)\n",
        "    push_data = {\n",
        "        \"type\":push_type,\n",
        "        \"id\":push_ptt_id,\n",
        "        \"content\":push_content,\n",
        "        \"ipdate\":push_ip_date\n",
        "    }\n",
        "    data[\"push\"].append(push_data)\n",
        "\n",
        "# 把json寫入到檔案裡\n",
        "f = open(fpath, \"w\", encoding=\"utf-8\")\n",
        "# 之前是f.write, 現在使用json.dump幫我做更好的write\n",
        "json.dump(data, f, ensure_ascii=False, indent=4)\n",
        "f.close()"
      ],
      "metadata": {
        "colab": {
          "base_uri": "https://localhost:8080/"
        },
        "id": "Mhpn3DzIvjvF",
        "outputId": "20a2d236-532d-4ee1-f475-9fd07f57fe5f"
      },
      "execution_count": null,
      "outputs": [
        {
          "output_type": "stream",
          "name": "stdout",
          "text": [
            "作者: JANUARZ\n",
            "當時暱稱: 社會職人\n",
            "看板: Beauty\n",
            "分類: 正妹\n",
            "標題: 有些角度像楊謹華\n",
            "時間: Mon Jan 13 09:58:29 2025\n",
            "推 ninaman 正 101.12.146.84 01/13 10:05\n",
            "推 deltarobot . 49.217.122.9 01/13 10:07\n",
            "推 elfindor 優 223.137.175.186 01/13 10:16\n",
            "推 wglhe 優版派克 42.77.77.102 01/13 10:17\n",
            "推 Uncontinue 正正 122.118.35.37 01/13 10:38\n",
            "推 Williamtsou 門 27.53.230.154 01/13 10:52\n",
            "推 aass5566 就是本人 42.77.55.73 01/13 11:10\n",
            "→ bingreen 正 111.184.234.172 01/13 11:17\n",
            "推 openbook13 優質皮朋 49.215.58.105 01/13 11:29\n",
            "推 okbon 不錯喔 118.231.152.241 01/13 13:03\n",
            "噓 TopGun2 明明就是 張鳳書 114.33.106.198 01/13 13:12\n",
            "→ wl00669773 之前現場聊天過，一直覺得本人比照片 223.141.125.149 01/13 13:26\n",
            "→ wl00669773 漂亮 223.141.125.149 01/13 13:27\n",
            "噓 hmt17 許光漢？ 49.216.52.98 01/13 14:26\n",
            "推 WasJohnWall 派克？ 61.228.67.71 01/13 15:32\n",
            "推 durian0308 讚 42.78.236.55 01/13 15:51\n",
            "推 saw6904 楊謹華天花版 42.79.150.39 01/13 18:24\n",
            "推 ruffryders 正翻 42.78.17.7 01/13 19:57\n",
            "推 a3300689 已追蹤 推藏頭 1.171.153.189 01/14 00:32\n",
            "→ a9564208 比較像 常威 101.9.96.122 01/14 07:33\n",
            "推 clkdtm32 比楊謹華正太多了吧 198.232.126.7 01/14 11:00\n"
          ]
        }
      ]
    },
    {
      "cell_type": "markdown",
      "source": [
        "```python\n",
        "\n",
        "聽故事!!!! 稍微知道就可以了\n",
        "\n",
        "我們之前說import你就是要import到某個.py\n",
        "\n",
        "照抄.功能() 照抄...\n",
        "\n",
        "我們從來沒遇過妳某隻檔案裏面\n",
        "\n",
        "os(檔案).xxxx.功能\n",
        "\n",
        "os.py 兩行\n",
        "\n",
        "import posixpath(檔案) as path\n",
        "import ntpath(檔案) as path\n",
        "\n",
        "這個path就是這個\n",
        "!!! 因為外部使用者並不會想自己分辨\n",
        "!!! 封裝(讓外部使用者感覺都是同一個exists)\n",
        "!!! 但裡面幫妳導到不同作業系統的指令\n",
        "!!! 妳外部永遠只要同一行 os.path.exists\n",
        "\n",
        "\n",
        "在ntpath和posixpath裡面都有一行\n",
        "from genericpath import *\n",
        "\n",
        "事實上妳是吃到genericpath.py裡面的exists\n",
        "\n",
        "exists是存在在genericpath.py裡面的\n",
        "\n",
        "!!! 因為exists這指令在windows/mac/linux都是一樣的\n",
        "!!! 那我們絕對不會重複一直寫, 所以我們就拉出一隻檔案把它定義裡面\n",
        "\n",
        "\n",
        "\n",
        "```"
      ],
      "metadata": {
        "id": "6m2zOvy0SvDS"
      }
    },
    {
      "cell_type": "code",
      "source": [
        "# 01/20 加入創資料夾\n",
        "import os\n",
        "import urllib.request as req\n",
        "import bs4 as bs\n",
        "\n",
        "url = \"https://www.ptt.cc/bbs/Beauty/M.1736755829.A.02A.html\"\n",
        "# 創造資料夾\n",
        "dirname = url.split(\"/\")[-1]\n",
        "if not os.path.exists(dirname):\n",
        "    os.makedirs(dirname)\n",
        "\n",
        "r = req.Request(url)\n",
        "r.add_header(\"User-Agent\", \"Mozilla/5.0 (Windows NT 10.0; Win64; x64) AppleWebKit/537.36 (KHTML, like Gecko) Chrome/131.0.0.0 Safari/537.36 Edg/131.0.0.0\")\n",
        "\n",
        "response = req.urlopen(r)\n",
        "html = bs.BeautifulSoup(response)\n",
        "\n",
        "allow_subname = [\"jpg\", \"jpeg\", \"png\", \"gif\"]\n",
        "links = html.find_all(\"a\")\n",
        "for l in links:\n",
        "    href = l[\"href\"]\n",
        "    subname = href.split(\".\")[-1]\n",
        "    if subname.lower() in allow_subname:\n",
        "        r = req.Request(href)\n",
        "        r.add_header(\"User-Agent\", \"Mozilla/5.0 (Windows NT 10.0; Win64; x64) AppleWebKit/537.36 (KHTML, like Gecko) Chrome/131.0.0.0 Safari/537.36 Edg/131.0.0.0\")\n",
        "        img = req.urlopen(r)\n",
        "        fname = href.split(\"/\")[-1]\n",
        "        # 完整路徑(用字串加法是有點累的 \"/\", os.path.join不用)\n",
        "        fpath = os.path.join(dirname, fname)\n",
        "        f = open(fpath, \"wb\")\n",
        "        f.write(img.read())\n",
        "        f.close()\n"
      ],
      "metadata": {
        "id": "iBWxXVio0SaO"
      },
      "execution_count": 1,
      "outputs": []
    },
    {
      "cell_type": "code",
      "source": [
        "import os\n",
        "import urllib.request as req\n",
        "import bs4 as bs\n",
        "\n",
        "def dl_post_image(url):\n",
        "    # url = \"https://www.ptt.cc/bbs/Beauty/M.1736755829.A.02A.html\"\n",
        "    # 創造資料夾\n",
        "    dirname = url.split(\"/\")[-1]\n",
        "    dirname = os.path.join(\"ptt\", dirname)\n",
        "    if not os.path.exists(dirname):\n",
        "        os.makedirs(dirname)\n",
        "\n",
        "    r = req.Request(url)\n",
        "    r.add_header(\"User-Agent\", \"Mozilla/5.0 (Windows NT 10.0; Win64; x64) AppleWebKit/537.36 (KHTML, like Gecko) Chrome/131.0.0.0 Safari/537.36 Edg/131.0.0.0\")\n",
        "\n",
        "    response = req.urlopen(r)\n",
        "    html = bs.BeautifulSoup(response)\n",
        "\n",
        "    allow_subname = [\"jpg\", \"jpeg\", \"png\", \"gif\"]\n",
        "    links = html.find_all(\"a\")\n",
        "    for l in links:\n",
        "        href = l[\"href\"]\n",
        "        subname = href.split(\".\")[-1]\n",
        "        if subname.lower() in allow_subname:\n",
        "            r = req.Request(href)\n",
        "            r.add_header(\"User-Agent\", \"Mozilla/5.0 (Windows NT 10.0; Win64; x64) AppleWebKit/537.36 (KHTML, like Gecko) Chrome/131.0.0.0 Safari/537.36 Edg/131.0.0.0\")\n",
        "            img = req.urlopen(r)\n",
        "            fname = href.split(\"/\")[-1]\n",
        "            # 完整路徑(用字串加法是有點累的 \"/\", os.path.join不用)\n",
        "            fpath = os.path.join(dirname, fname)\n",
        "            f = open(fpath, \"wb\")\n",
        "            f.write(img.read())\n",
        "            f.close()"
      ],
      "metadata": {
        "id": "Y7OQ7NzmYr3M"
      },
      "execution_count": 8,
      "outputs": []
    },
    {
      "cell_type": "code",
      "source": [
        "# 當成全新的在寫\n",
        "import urllib.request as req\n",
        "\n",
        "url = \"https://www.ptt.cc/bbs/Beauty/index3950.html\"\n",
        "r = req.Request(url)\n",
        "r.add_header(\"User-Agent\", \"Mozilla/5.0 (Windows NT 10.0; Win64; x64) AppleWebKit/537.36 (KHTML, like Gecko) Chrome/131.0.0.0 Safari/537.36 Edg/131.0.0.0\")\n",
        "\n",
        "response = req.urlopen(r)\n",
        "html = bs.BeautifulSoup(response)\n",
        "titles = html.find_all(\"div\", {\"class\":\"title\"})\n",
        "\n",
        "for t in titles:\n",
        "    post_link = t.find(\"a\")\n",
        "    # t裡有a: 正常\n",
        "    if not post_link == None:\n",
        "        post_url = \"https://www.ptt.cc\" + post_link[\"href\"]\n",
        "        print(post_url)\n",
        "        dl_post_image(post_url)\n",
        "    # t裡沒a: 刪文的\n",
        "    else:\n",
        "        print(\"這篇被刪了\")"
      ],
      "metadata": {
        "colab": {
          "base_uri": "https://localhost:8080/"
        },
        "id": "96D2TeoMZklN",
        "outputId": "1fb9e1c1-32a4-4076-c98c-45639b42fc05"
      },
      "execution_count": 9,
      "outputs": [
        {
          "output_type": "stream",
          "name": "stdout",
          "text": [
            "https://www.ptt.cc/bbs/Beauty/M.1737162050.A.EA1.html\n",
            "https://www.ptt.cc/bbs/Beauty/M.1737164418.A.B9B.html\n",
            "https://www.ptt.cc/bbs/Beauty/M.1737164759.A.625.html\n",
            "這篇被刪了\n",
            "https://www.ptt.cc/bbs/Beauty/M.1737172640.A.4C5.html\n",
            "https://www.ptt.cc/bbs/Beauty/M.1737177354.A.3CF.html\n",
            "https://www.ptt.cc/bbs/Beauty/M.1737179262.A.1E8.html\n",
            "https://www.ptt.cc/bbs/Beauty/M.1737182986.A.920.html\n",
            "https://www.ptt.cc/bbs/Beauty/M.1737189398.A.CAA.html\n",
            "https://www.ptt.cc/bbs/Beauty/M.1737192599.A.90F.html\n",
            "https://www.ptt.cc/bbs/Beauty/M.1737193583.A.A22.html\n",
            "https://www.ptt.cc/bbs/Beauty/M.1737209212.A.D66.html\n",
            "https://www.ptt.cc/bbs/Beauty/M.1737248469.A.BC8.html\n",
            "https://www.ptt.cc/bbs/Beauty/M.1737248570.A.E9D.html\n",
            "https://www.ptt.cc/bbs/Beauty/M.1737248677.A.D05.html\n",
            "https://www.ptt.cc/bbs/Beauty/M.1737248796.A.252.html\n",
            "https://www.ptt.cc/bbs/Beauty/M.1737251853.A.27E.html\n",
            "https://www.ptt.cc/bbs/Beauty/M.1737256223.A.C91.html\n",
            "https://www.ptt.cc/bbs/Beauty/M.1737258056.A.744.html\n",
            "https://www.ptt.cc/bbs/Beauty/M.1737260903.A.847.html\n"
          ]
        }
      ]
    }
  ]
}