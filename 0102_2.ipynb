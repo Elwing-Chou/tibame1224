{
  "nbformat": 4,
  "nbformat_minor": 0,
  "metadata": {
    "colab": {
      "provenance": [],
      "authorship_tag": "ABX9TyN6NoiqvHvwfZ00mSbbyri8",
      "include_colab_link": true
    },
    "kernelspec": {
      "name": "python3",
      "display_name": "Python 3"
    },
    "language_info": {
      "name": "python"
    }
  },
  "cells": [
    {
      "cell_type": "markdown",
      "metadata": {
        "id": "view-in-github",
        "colab_type": "text"
      },
      "source": [
        "<a href=\"https://colab.research.google.com/github/Elwing-Chou/tibame1224/blob/main/0102_2.ipynb\" target=\"_parent\"><img src=\"https://colab.research.google.com/assets/colab-badge.svg\" alt=\"Open In Colab\"/></a>"
      ]
    },
    {
      "cell_type": "markdown",
      "source": [
        "# 檔案讀寫\n",
        "\n",
        "```python\n",
        "1. 請妳always在檔案讀寫將encoding設定為utf-8\n",
        "2. 因為你不做設置的話, 有可能會使用系統預設編碼\n",
        "\n",
        "windows: ANSI(美國標準) 對於繁體她是BIG5 對於檢體來說GBK\n",
        "MAC...UNIX系統: utf-8\n",
        "\n",
        "```"
      ],
      "metadata": {
        "id": "K6vFahJVwR6Y"
      }
    },
    {
      "cell_type": "code",
      "execution_count": 12,
      "metadata": {
        "id": "OTRA_gERuRL5"
      },
      "outputs": [],
      "source": [
        "f = open(\"a.txt\", \"w\", encoding=\"utf-8\")\n",
        "# 以前邏輯 寫入功能: write(f, \"abcde\")\n",
        "# 但我們發覺妳那第一個參數非得是檔案型態不可\n",
        "# 我們會想強調 這個功能是檔案的特殊功能\n",
        "# 專屬功能: f.write(\"abcde\")\n",
        "f.write(\"abcde\")\n",
        "# 所以打不出來的字, 譬如換行, 我們就會用兩個符號來組合這個字 \\n\n",
        "f.write(\"\\nfgh\")\n",
        "# 記得關閉, 因為關閉的時候會順便幫妳存檔\n",
        "# 以前: close(f)\n",
        "# 專屬功能: f.close()\n",
        "f.close()"
      ]
    },
    {
      "cell_type": "code",
      "source": [
        "# 資料夾資料夾  資料夾檔案 分隔always使用/\n",
        "f = open(\"sample_data/README.md\", \"r\", encoding=\"utf-8\")\n",
        "# 以前: content = read(f)\n",
        "# 專屬功能: content = f.read()\n",
        "content = f.read()\n",
        "print(content)\n",
        "f.close()"
      ],
      "metadata": {
        "colab": {
          "base_uri": "https://localhost:8080/"
        },
        "id": "Q9E5UGUL2HkV",
        "outputId": "d6406596-bfe9-4bca-db20-5473ebf92fa5"
      },
      "execution_count": 17,
      "outputs": [
        {
          "output_type": "stream",
          "name": "stdout",
          "text": [
            "This directory includes a few sample datasets to get you started.\n",
            "\n",
            "*   `california_housing_data*.csv` is California housing data from the 1990 US\n",
            "    Census; more information is available at:\n",
            "    https://docs.google.com/document/d/e/2PACX-1vRhYtsvc5eOR2FWNCwaBiKL6suIOrxJig8LcSBbmCbyYsayia_DvPOOBlXZ4CAlQ5nlDD8kTaIDRwrN/pub\n",
            "\n",
            "*   `mnist_*.csv` is a small sample of the\n",
            "    [MNIST database](https://en.wikipedia.org/wiki/MNIST_database), which is\n",
            "    described at: http://yann.lecun.com/exdb/mnist/\n",
            "\n",
            "*   `anscombe.json` contains a copy of\n",
            "    [Anscombe's quartet](https://en.wikipedia.org/wiki/Anscombe%27s_quartet); it\n",
            "    was originally described in\n",
            "\n",
            "    Anscombe, F. J. (1973). 'Graphs in Statistical Analysis'. American\n",
            "    Statistician. 27 (1): 17-21. JSTOR 2682899.\n",
            "\n",
            "    and our copy was prepared by the\n",
            "    [vega_datasets library](https://github.com/altair-viz/vega_datasets/blob/4f67bdaad10f45e3549984e17e1b3088c731503d/vega_datasets/_data/anscombe.json).\n",
            "\n"
          ]
        }
      ]
    },
    {
      "cell_type": "code",
      "source": [
        "# 預設值定義\n",
        "def add(n1, n2=3.14, n3=20, n4=50):\n",
        "    ans = n1 + n2 + n3\n",
        "    return ans\n",
        "print(add(3, 5))\n",
        "print(add(3))\n",
        "print(add(3, n3=40))"
      ],
      "metadata": {
        "colab": {
          "base_uri": "https://localhost:8080/"
        },
        "id": "hDCaZZ8SuxTt",
        "outputId": "dde6b94a-b462-458a-a11b-1d1217a36a90"
      },
      "execution_count": 8,
      "outputs": [
        {
          "output_type": "stream",
          "name": "stdout",
          "text": [
            "28\n",
            "26.14\n",
            "46.14\n"
          ]
        }
      ]
    },
    {
      "cell_type": "markdown",
      "source": [
        "# List進階操作\n",
        "\n",
        "```python\n",
        "List我們之前只學了\n",
        "1. 查詢操作: list[key]\n",
        "2. 設定操作: list[key] = 30\n",
        "\n",
        "查詢進階操作\n",
        "第一組key: 0 1 2 3....\n",
        "第二組key: ,,, -3 -2 -1\n",
        "1. 反向key: list[-1] !!!!\n",
        "2. 查詢一段: list[開始key:結束key(不包含)]\n",
        "3. 查詢一段並且跳著: list[開始key:結束(不包):幾個一跳]\n",
        "\n",
        "要記得的: [0] [-1] [::-1]\n",
        "\n",
        "```"
      ],
      "metadata": {
        "id": "2PB9Uh748d90"
      }
    },
    {
      "cell_type": "code",
      "source": [
        "scores = [30, 20, 60, 60, 40]\n",
        "print(sum(scores),\n",
        "   min(scores),\n",
        "   max(scores),\n",
        "   len(scores))\n",
        "print(60 in scores)\n",
        "\n",
        "# print(scores[len(scores)-1])\n",
        "print(scores[-1])\n",
        "\n",
        "# scores[2:4] scores[2/3]\n",
        "print(scores[1:4])\n",
        "print(scores[1:-1])\n",
        "print(scores[:4])\n",
        "print(scores[1:])\n",
        "\n",
        "# list[2:11:3] [2, 5, 8]\n",
        "print(scores[1:5:2])\n",
        "# 奇數位置\n",
        "print(scores[::2])\n",
        "# 偶數位置\n",
        "print(scores[1::2])\n",
        "# 跳號的值是正的, 就左到右\n",
        "# 跳號的值是負的, 從右到左\n",
        "# list[11:2:-3] [11, 8, 5]\n",
        "# !!!!!\n",
        "print(scores[::-1])"
      ],
      "metadata": {
        "colab": {
          "base_uri": "https://localhost:8080/"
        },
        "id": "xEkLHHhA8tVc",
        "outputId": "34341b2a-79d5-40a1-a7a5-f07bf873dbbd"
      },
      "execution_count": 45,
      "outputs": [
        {
          "output_type": "stream",
          "name": "stdout",
          "text": [
            "210 20 60 5\n",
            "True\n",
            "40\n",
            "[20, 60, 60]\n",
            "[20, 60, 60]\n",
            "[30, 20, 60, 60]\n",
            "[20, 60, 60, 40]\n",
            "[20, 60]\n",
            "[30, 60, 40]\n",
            "[20, 60]\n",
            "[40, 60, 60, 20, 30]\n"
          ]
        }
      ]
    },
    {
      "cell_type": "code",
      "source": [
        "scores = [60, 80, 20, 30, 50]\n",
        "\n",
        "total = 0\n",
        "i = 0\n",
        "while i < len(scores):\n",
        "    # !!! 很不泛用: 以後不是每種群的key都會是0 1 2 3\n",
        "    s = scores[i]\n",
        "    if s >= 60:\n",
        "        total = total + 1\n",
        "    i = i + 1\n",
        "print(total)"
      ],
      "metadata": {
        "colab": {
          "base_uri": "https://localhost:8080/"
        },
        "id": "oyOqkCUZC1cP",
        "outputId": "9415c9db-2eb1-4564-b84c-1efbffc86e2a"
      },
      "execution_count": 47,
      "outputs": [
        {
          "output_type": "stream",
          "name": "stdout",
          "text": [
            "2\n"
          ]
        }
      ]
    },
    {
      "cell_type": "markdown",
      "source": [
        "```python\n",
        "for 名稱 in 群:\n",
        "    xxx\n",
        "    \n",
        "for...in會幫你這群東西裡面每個東西拿給妳一次, 有順序就照順序, 沒順序就隨意\n",
        "```"
      ],
      "metadata": {
        "id": "tVHB4W6JEdEd"
      }
    },
    {
      "cell_type": "code",
      "source": [
        "scores = [60, 80, 20, 30, 50]\n",
        "total = 0\n",
        "for s in scores:\n",
        "    if s >= 60:\n",
        "        total = total + 1\n",
        "print(total)"
      ],
      "metadata": {
        "colab": {
          "base_uri": "https://localhost:8080/"
        },
        "id": "LcpDkVViC2M3",
        "outputId": "a965c8ad-a91e-42a3-9ec5-5d0c812a0265"
      },
      "execution_count": 48,
      "outputs": [
        {
          "output_type": "stream",
          "name": "stdout",
          "text": [
            "2\n"
          ]
        }
      ]
    },
    {
      "cell_type": "code",
      "source": [
        "# 1 + 2 ... + 10\n",
        "total = 0\n",
        "i = 0\n",
        "while i < 10:\n",
        "    total = total + (i + 1)\n",
        "    print(total)\n",
        "    i = i + 1"
      ],
      "metadata": {
        "id": "CJTnYn2CFpZw"
      },
      "execution_count": null,
      "outputs": []
    },
    {
      "cell_type": "markdown",
      "source": [
        "```PYTHON\n",
        "i = 0...9\n",
        "\n",
        "所以如果今天我有個[0, 1, 2, ..., 9]\n",
        "\n",
        "有功能可以幫你產生這個list\n",
        "!!!!!1. range(5) -> [0, 1, 2, 3, 4]\n",
        "2. range(2, 5) -> [2, 3, 4]\n",
        "3. range(2, 11, 3) -> [2, 5, 8]\n",
        "\n",
        "for i in range(次)\n",
        "1. 次在range裡\n",
        "2. i = 0....次-1\n",
        "\n",
        "```"
      ],
      "metadata": {
        "id": "OFrkQG_vGeVx"
      }
    },
    {
      "cell_type": "code",
      "source": [
        "total = 0\n",
        "for i in range(10):\n",
        "    total = total + (i + 1)\n",
        "    print(total)"
      ],
      "metadata": {
        "colab": {
          "base_uri": "https://localhost:8080/"
        },
        "id": "_O3zQX40G6PA",
        "outputId": "3baf16eb-9048-40f0-b68d-5fddf2e90e85"
      },
      "execution_count": 51,
      "outputs": [
        {
          "output_type": "stream",
          "name": "stdout",
          "text": [
            "1\n",
            "3\n",
            "6\n",
            "10\n",
            "15\n",
            "21\n",
            "28\n",
            "36\n",
            "45\n",
            "55\n"
          ]
        }
      ]
    },
    {
      "cell_type": "markdown",
      "source": [
        "# 迴圈SOP\n",
        "\n",
        "```python\n",
        "1. 數次數: for i in range(次):\n",
        "2. 走過字串/list: for 名稱 in 群:\n",
        "3. 其他條件: while True + break\n",
        "```"
      ],
      "metadata": {
        "id": "gyzx5EU4H7PK"
      }
    }
  ]
}