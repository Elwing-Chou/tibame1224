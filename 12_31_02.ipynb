{
  "nbformat": 4,
  "nbformat_minor": 0,
  "metadata": {
    "colab": {
      "provenance": [],
      "authorship_tag": "ABX9TyO1L4JjEY6Kr2ZCaVqbzSLe",
      "include_colab_link": true
    },
    "kernelspec": {
      "name": "python3",
      "display_name": "Python 3"
    },
    "language_info": {
      "name": "python"
    }
  },
  "cells": [
    {
      "cell_type": "markdown",
      "metadata": {
        "id": "view-in-github",
        "colab_type": "text"
      },
      "source": [
        "<a href=\"https://colab.research.google.com/github/Elwing-Chou/tibame1224/blob/main/12_31_02.ipynb\" target=\"_parent\"><img src=\"https://colab.research.google.com/assets/colab-badge.svg\" alt=\"Open In Colab\"/></a>"
      ]
    },
    {
      "cell_type": "code",
      "execution_count": null,
      "metadata": {
        "id": "445OJLADmkqB"
      },
      "outputs": [],
      "source": []
    },
    {
      "cell_type": "markdown",
      "source": [
        "# 認識網路!!!\n",
        "\n",
        "```python\n",
        "兩台電腦溝通\n",
        "\n",
        "local <---> server\n",
        "\n",
        "server: 只回答\n",
        "local: 只問\n",
        "\n",
        "\n",
        "一個問題一個答案的世界:\n",
        "一個問題 - 網址\n",
        "一個回答 - 網頁/pdf/doc/mp3/mp4\n",
        "\n",
        "爬蟲: 反向(妳看到你有興趣的答案, 妳要反查問題是啥)\n",
        "\n",
        "!!! 隱藏網址: 一個網頁並不是只有一個網址構成\n",
        "\n",
        "1. 檢查原始碼(網址列的答案)\n",
        "\n",
        "```"
      ],
      "metadata": {
        "id": "oGUqeAvQmnD6"
      }
    },
    {
      "cell_type": "code",
      "source": [],
      "metadata": {
        "id": "SLU1iK--ntm6"
      },
      "execution_count": null,
      "outputs": []
    }
  ]
}