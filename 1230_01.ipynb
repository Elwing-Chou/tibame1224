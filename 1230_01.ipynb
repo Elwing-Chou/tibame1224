{
  "nbformat": 4,
  "nbformat_minor": 0,
  "metadata": {
    "colab": {
      "provenance": [],
      "authorship_tag": "ABX9TyOKBVdUV+Tn5hJihI7CTj8M",
      "include_colab_link": true
    },
    "kernelspec": {
      "name": "python3",
      "display_name": "Python 3"
    },
    "language_info": {
      "name": "python"
    }
  },
  "cells": [
    {
      "cell_type": "markdown",
      "metadata": {
        "id": "view-in-github",
        "colab_type": "text"
      },
      "source": [
        "<a href=\"https://colab.research.google.com/github/Elwing-Chou/tibame1224/blob/main/1230_01.ipynb\" target=\"_parent\"><img src=\"https://colab.research.google.com/assets/colab-badge.svg\" alt=\"Open In Colab\"/></a>"
      ]
    },
    {
      "cell_type": "markdown",
      "source": [
        "# 迴圈\n",
        "\n",
        "```python\n",
        "part1. 重複n次: 從0次數到n-1次\n",
        "10: 0 1 ... 9\n",
        "\n",
        "準備一個計數器\n",
        "1. 初始化: i = 0\n",
        "2. 判斷: i < 10\n",
        "3. 增加: i = i + 1\n",
        "\n",
        "i = 0\n",
        "while i < 10:\n",
        "    print(i)\n",
        "    i = i + 1\n",
        "\n",
        "!!!好習慣: 這三行妳絕對不改\n",
        "1. 次數就在<後面\n",
        "2. 數: 0 1 ... 次-1\n",
        "\n",
        "Q1. 1 2 ... 10\n",
        "A1. i + 1\n",
        "\n",
        "Q2. 10 9 ... 1\n",
        "A2. 10 - i\n",
        "\n",
        "Q3. 1 3 5 7\n",
        "A2. 2 * i + 1\n",
        "```"
      ],
      "metadata": {
        "id": "aWt7Ww0zH0dj"
      }
    },
    {
      "cell_type": "code",
      "source": [
        "i = 0\n",
        "while i < 10:\n",
        "    print(5 + i,\n",
        "       20 - i,\n",
        "       2 * i + 1,\n",
        "       # 50 47 44\n",
        "       50 - 3 * i)\n",
        "    i = i + 1"
      ],
      "metadata": {
        "colab": {
          "base_uri": "https://localhost:8080/"
        },
        "id": "IOgM1Ag3SX0M",
        "outputId": "87e60141-b35b-4da4-ccb9-f65f4122085e"
      },
      "execution_count": 4,
      "outputs": [
        {
          "output_type": "stream",
          "name": "stdout",
          "text": [
            "5 20 1 50\n",
            "6 19 3 47\n",
            "7 18 5 44\n",
            "8 17 7 41\n",
            "9 16 9 38\n",
            "10 15 11 35\n",
            "11 14 13 32\n",
            "12 13 15 29\n",
            "13 12 17 26\n",
            "14 11 19 23\n"
          ]
        }
      ]
    },
    {
      "cell_type": "markdown",
      "source": [
        "```python\n",
        "o\n",
        "oo\n",
        "ooo\n",
        "oooo\n",
        "ooooo\n",
        "\n",
        "...o\n",
        "..oo\n",
        ".ooo\n",
        "oooo\n",
        "\n",
        "```"
      ],
      "metadata": {
        "id": "7TaOJZBwbr-6"
      }
    },
    {
      "cell_type": "code",
      "source": [
        "# 不良示範 因為妳檢討完發現四種其實是同一個問題\n",
        "# 應該統一處理(這個妳也該印空白鍵)\n",
        "i = 0\n",
        "while i < 10:\n",
        "    print(\"x\" * (i + 1))\n",
        "    i = i + 1"
      ],
      "metadata": {
        "colab": {
          "base_uri": "https://localhost:8080/"
        },
        "id": "dGysTv9Ya6w9",
        "outputId": "d4604828-0438-4ec7-a2da-2f7c67b2a312"
      },
      "execution_count": 7,
      "outputs": [
        {
          "output_type": "stream",
          "name": "stdout",
          "text": [
            "x\n",
            "xx\n",
            "xxx\n",
            "xxxx\n",
            "xxxxx\n",
            "xxxxxx\n",
            "xxxxxxx\n",
            "xxxxxxxx\n",
            "xxxxxxxxx\n",
            "xxxxxxxxxx\n"
          ]
        }
      ]
    },
    {
      "cell_type": "code",
      "source": [
        "height = 10\n",
        "lsymbol, rsymbol = \" \", \"o\"\n",
        "i = 0\n",
        "while i < height:\n",
        "    lcount = height - i - 1\n",
        "    rcount = i + 1\n",
        "    print(lsymbol * lcount +\n",
        "       rsymbol * rcount)\n",
        "    i = i + 1"
      ],
      "metadata": {
        "colab": {
          "base_uri": "https://localhost:8080/"
        },
        "id": "UOAIuuTNd2Yy",
        "outputId": "776fb3b7-238b-4219-b187-778acff98d48"
      },
      "execution_count": 11,
      "outputs": [
        {
          "output_type": "stream",
          "name": "stdout",
          "text": [
            "         o\n",
            "        oo\n",
            "       ooo\n",
            "      oooo\n",
            "     ooooo\n",
            "    oooooo\n",
            "   ooooooo\n",
            "  oooooooo\n",
            " ooooooooo\n",
            "oooooooooo\n"
          ]
        }
      ]
    },
    {
      "cell_type": "code",
      "source": [
        "height = 10\n",
        "lsymbol, rsymbol = \" \", \"o\"\n",
        "i = 0\n",
        "while i < height:\n",
        "    lcount = i\n",
        "    rcount = height - i\n",
        "    print(lsymbol * lcount +\n",
        "       rsymbol * rcount)\n",
        "    i = i + 1"
      ],
      "metadata": {
        "colab": {
          "base_uri": "https://localhost:8080/"
        },
        "id": "gVVgz_GTgW9g",
        "outputId": "343f7e78-3f36-41cd-f632-7a7b884f8788"
      },
      "execution_count": 13,
      "outputs": [
        {
          "output_type": "stream",
          "name": "stdout",
          "text": [
            "oooooooooo\n",
            " ooooooooo\n",
            "  oooooooo\n",
            "   ooooooo\n",
            "    oooooo\n",
            "     ooooo\n",
            "      oooo\n",
            "       ooo\n",
            "        oo\n",
            "         o\n"
          ]
        }
      ]
    },
    {
      "cell_type": "markdown",
      "source": [
        "```python\n",
        "\n",
        "例題1\n",
        "\n",
        "ooooooo\n",
        ".ooooo.\n",
        "..ooo..\n",
        "...o...\n",
        "\n",
        "```"
      ],
      "metadata": {
        "id": "Wll1rlHchWeh"
      }
    },
    {
      "cell_type": "code",
      "source": [
        "height = 5\n",
        "lsymbol, msymbol, rsymbol = \" \", \"o\", \" \"\n",
        "i = 0\n",
        "while i < height:\n",
        "    lcount = i\n",
        "    mcount = (2 * height - 1) - 2 * i\n",
        "    rcount = i\n",
        "    print(lsymbol * lcount +\n",
        "       msymbol * mcount +\n",
        "       rsymbol * rcount)\n",
        "    i = i + 1"
      ],
      "metadata": {
        "colab": {
          "base_uri": "https://localhost:8080/"
        },
        "id": "3X1O4L-VkS9h",
        "outputId": "fa684b72-4145-4167-9203-21a5cece7ddc"
      },
      "execution_count": 23,
      "outputs": [
        {
          "output_type": "stream",
          "name": "stdout",
          "text": [
            "ooooooooo\n",
            " ooooooo \n",
            "  ooooo  \n",
            "   ooo   \n",
            "    o    \n"
          ]
        }
      ]
    },
    {
      "cell_type": "markdown",
      "source": [
        "```python\n",
        "\n",
        "ooooooooo\n",
        ".xxxxxxx.\n",
        "..ooooo..\n",
        "...xxx...\n",
        "....o....\n",
        "\n",
        "\n",
        "\n",
        "```"
      ],
      "metadata": {
        "id": "IRYRnXSqm7Mw"
      }
    },
    {
      "cell_type": "code",
      "source": [
        "height = 5\n",
        "i = 0\n",
        "while i < height:\n",
        "    # 奇數層: i = 0 2 4 6 8\n",
        "    if i % 2 == 0:\n",
        "        lsymbol, msymbol, rsymbol = \" \", \"o\", \" \"\n",
        "    # 偶數層(% 2 == 1)\n",
        "    else:\n",
        "        lsymbol, msymbol, rsymbol = \" \", \"x\", \" \"\n",
        "    lcount = i\n",
        "    mcount = (2 * height - 1) - 2 * i\n",
        "    rcount = i\n",
        "    print(lsymbol * lcount +\n",
        "       msymbol * mcount +\n",
        "       rsymbol * rcount)\n",
        "    i = i + 1"
      ],
      "metadata": {
        "colab": {
          "base_uri": "https://localhost:8080/"
        },
        "id": "6j1tIP6RoR9U",
        "outputId": "aee6439c-a02e-4eae-ba60-8d985ad50e11"
      },
      "execution_count": 24,
      "outputs": [
        {
          "output_type": "stream",
          "name": "stdout",
          "text": [
            "ooooooooo\n",
            " xxxxxxx \n",
            "  ooooo  \n",
            "   xxx   \n",
            "    o    \n"
          ]
        }
      ]
    },
    {
      "cell_type": "markdown",
      "source": [
        "```python\n",
        "\n",
        "編碼: 我 -> 0101010101\n",
        "解碼: 01100101010 -> 我\n",
        "\n",
        "編碼和解碼(以前) 各國自行規定\n",
        "繁體中文: BIG5\n",
        "簡體中文: GBK\n",
        "\n",
        "亂碼原因: 編碼和解碼使用的不一致\n",
        "\n",
        "(現在) 全世界只有一套編碼(Unicode 萬國碼)\n",
        "我們目前使用的就只有Unicode裡面一個分支utf-8\n",
        "\n",
        "```"
      ],
      "metadata": {
        "id": "-TpkjnvMqCeA"
      }
    },
    {
      "cell_type": "code",
      "source": [
        "symbols = [\"\\u2660\", \"\\u2661\", \"\\u2662\", \"\\u2663\"]\n",
        "height = 20\n",
        "i = 0\n",
        "while i < height:\n",
        "    # 符號\n",
        "    lsymbol = \" \"\n",
        "    msymbol = symbols[i%len(symbols)]\n",
        "    rsymbol = \" \"\n",
        "    # 數目\n",
        "    lcount = i\n",
        "    mcount = (2 * height - 1) - 2 * i\n",
        "    rcount = i\n",
        "    print(lsymbol * lcount +\n",
        "       msymbol * mcount +\n",
        "       rsymbol * rcount)\n",
        "    i = i + 1"
      ],
      "metadata": {
        "colab": {
          "base_uri": "https://localhost:8080/"
        },
        "id": "TaVpyurvpZcT",
        "outputId": "da706812-d864-47d4-f4bd-089390164c58"
      },
      "execution_count": 30,
      "outputs": [
        {
          "output_type": "stream",
          "name": "stdout",
          "text": [
            "♠♠♠♠♠♠♠♠♠♠♠♠♠♠♠♠♠♠♠♠♠♠♠♠♠♠♠♠♠♠♠♠♠♠♠♠♠♠♠\n",
            " ♡♡♡♡♡♡♡♡♡♡♡♡♡♡♡♡♡♡♡♡♡♡♡♡♡♡♡♡♡♡♡♡♡♡♡♡♡ \n",
            "  ♢♢♢♢♢♢♢♢♢♢♢♢♢♢♢♢♢♢♢♢♢♢♢♢♢♢♢♢♢♢♢♢♢♢♢  \n",
            "   ♣♣♣♣♣♣♣♣♣♣♣♣♣♣♣♣♣♣♣♣♣♣♣♣♣♣♣♣♣♣♣♣♣   \n",
            "    ♠♠♠♠♠♠♠♠♠♠♠♠♠♠♠♠♠♠♠♠♠♠♠♠♠♠♠♠♠♠♠    \n",
            "     ♡♡♡♡♡♡♡♡♡♡♡♡♡♡♡♡♡♡♡♡♡♡♡♡♡♡♡♡♡     \n",
            "      ♢♢♢♢♢♢♢♢♢♢♢♢♢♢♢♢♢♢♢♢♢♢♢♢♢♢♢      \n",
            "       ♣♣♣♣♣♣♣♣♣♣♣♣♣♣♣♣♣♣♣♣♣♣♣♣♣       \n",
            "        ♠♠♠♠♠♠♠♠♠♠♠♠♠♠♠♠♠♠♠♠♠♠♠        \n",
            "         ♡♡♡♡♡♡♡♡♡♡♡♡♡♡♡♡♡♡♡♡♡         \n",
            "          ♢♢♢♢♢♢♢♢♢♢♢♢♢♢♢♢♢♢♢          \n",
            "           ♣♣♣♣♣♣♣♣♣♣♣♣♣♣♣♣♣           \n",
            "            ♠♠♠♠♠♠♠♠♠♠♠♠♠♠♠            \n",
            "             ♡♡♡♡♡♡♡♡♡♡♡♡♡             \n",
            "              ♢♢♢♢♢♢♢♢♢♢♢              \n",
            "               ♣♣♣♣♣♣♣♣♣               \n",
            "                ♠♠♠♠♠♠♠                \n",
            "                 ♡♡♡♡♡                 \n",
            "                  ♢♢♢                  \n",
            "                   ♣                   \n"
          ]
        }
      ]
    },
    {
      "cell_type": "markdown",
      "source": [
        "# 迴圈第二part\n",
        "\n",
        "```python\n",
        "有記憶體的迴圈 - 記憶體要取個名字, 放在迴圈外面\n",
        "!!! 拒絕跳躍性思考\n",
        "\n",
        "```"
      ],
      "metadata": {
        "id": "pk3nVvezFnA5"
      }
    },
    {
      "cell_type": "code",
      "source": [
        "total = 0\n",
        "i = 0\n",
        "while i < 10:\n",
        "    total = total + (i + 1)\n",
        "    print(total)\n",
        "    i = i + 1"
      ],
      "metadata": {
        "colab": {
          "base_uri": "https://localhost:8080/"
        },
        "id": "yFBLjdUwFuU0",
        "outputId": "6368d339-0fe4-4599-f7e4-9c1381f58750"
      },
      "execution_count": 33,
      "outputs": [
        {
          "output_type": "stream",
          "name": "stdout",
          "text": [
            "1\n",
            "3\n",
            "6\n",
            "10\n",
            "15\n",
            "21\n",
            "28\n",
            "36\n",
            "45\n",
            "55\n"
          ]
        }
      ]
    },
    {
      "cell_type": "code",
      "source": [
        "a, b = 2, 7\n",
        "ans = \"0.\"\n",
        "\n",
        "i = 0\n",
        "while i < 10:\n",
        "    # 2 -> 20\n",
        "    a10 = a * 10\n",
        "    # 20 // 7 -> 0.2\n",
        "    ans = ans + str(a10 // b)\n",
        "    # 20 % 7\n",
        "    a = a10 % b\n",
        "    print(ans)\n",
        "    i = i + 1"
      ],
      "metadata": {
        "id": "lzJBxgerIqFR"
      },
      "execution_count": null,
      "outputs": []
    },
    {
      "cell_type": "code",
      "source": [
        "s = \"asdfsDfgvv   ,, WqrRrwqr. wQr123123rqw5tAfg\"\n",
        "# 英文大小寫, 妳要幫我統計出來s裡面有多少個小寫 多少個大寫\n",
        "lcase, ucase = 0, 0\n",
        "i = 0\n",
        "while i < len(s):\n",
        "    n = ord(s[i])\n",
        "    if ord(\"A\") <= n <= ord(\"Z\"):\n",
        "        ucase = ucase + 1\n",
        "    elif ord(\"a\") <= n <= ord(\"z\"):\n",
        "        lcase = lcase + 1\n",
        "    i = i + 1\n",
        "print(ucase, lcase)"
      ],
      "metadata": {
        "colab": {
          "base_uri": "https://localhost:8080/"
        },
        "id": "TTleenmdMAqN",
        "outputId": "1e85527e-ab15-4e17-ce4d-143cbd047e7e"
      },
      "execution_count": 44,
      "outputs": [
        {
          "output_type": "stream",
          "name": "stdout",
          "text": [
            "5 23\n"
          ]
        }
      ]
    },
    {
      "cell_type": "code",
      "source": [
        "# 妳要幫我統計大小寫字母每一個字母各自有幾個\n",
        "s = \"asdfsDfgvv   ,, WqrRrwqr. wQr123123rqw5tAfg\"\n",
        "ucases = [0] * 26\n",
        "lcases = [0] * 26\n",
        "i = 0\n",
        "while i < len(s):\n",
        "    n = ord(s[i])\n",
        "    if ord(\"A\") <= n <= ord(\"Z\"):\n",
        "        # 65 - 90 -> 0 - 25\n",
        "        n = n - ord(\"A\")\n",
        "        ucases[n] = ucases[n] + 1\n",
        "    elif ord(\"a\") <= n <= ord(\"z\"):\n",
        "        # 97 - 122 -> 0 - 25\n",
        "        n = n - ord(\"a\")\n",
        "        lcases[n] = lcases[n] + 1\n",
        "    i = i + 1\n",
        "print(ucases)\n",
        "print(lcases)"
      ],
      "metadata": {
        "colab": {
          "base_uri": "https://localhost:8080/"
        },
        "id": "GhNAryBDRgw8",
        "outputId": "ad7b1752-94fe-4dc2-b1e9-23b2c6fc5ceb"
      },
      "execution_count": 50,
      "outputs": [
        {
          "output_type": "stream",
          "name": "stdout",
          "text": [
            "[1, 0, 0, 1, 0, 0, 0, 0, 0, 0, 0, 0, 0, 0, 0, 0, 1, 1, 0, 0, 0, 0, 1, 0, 0, 0]\n",
            "[1, 0, 0, 1, 0, 3, 2, 0, 0, 0, 0, 0, 0, 0, 0, 0, 3, 5, 2, 1, 0, 2, 3, 0, 0, 0]\n"
          ]
        }
      ]
    }
  ]
}