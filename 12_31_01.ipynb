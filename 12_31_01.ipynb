{
  "nbformat": 4,
  "nbformat_minor": 0,
  "metadata": {
    "colab": {
      "provenance": [],
      "authorship_tag": "ABX9TyPFZZQk2M0oufKZ6piT8m9q",
      "include_colab_link": true
    },
    "kernelspec": {
      "name": "python3",
      "display_name": "Python 3"
    },
    "language_info": {
      "name": "python"
    }
  },
  "cells": [
    {
      "cell_type": "markdown",
      "metadata": {
        "id": "view-in-github",
        "colab_type": "text"
      },
      "source": [
        "<a href=\"https://colab.research.google.com/github/Elwing-Chou/tibame1224/blob/main/12_31_01.ipynb\" target=\"_parent\"><img src=\"https://colab.research.google.com/assets/colab-badge.svg\" alt=\"Open In Colab\"/></a>"
      ]
    },
    {
      "cell_type": "markdown",
      "source": [
        "# 迴圈第三\n",
        "\n",
        "```python\n",
        "不限次數的迴圈\n",
        "\n",
        "!!! while 後面自由寫\n",
        "\n",
        "布林(Boolean)型態: 是否型態\n",
        "True False\n",
        "1. 不: not加在前面\n",
        "2. 組合: 而且(and) 或者(or)\n",
        "條件1 and 條件2\n",
        "bmi > 25 and height > 175\n",
        "!!! 而且和或者會用反的人 都是\"中文有問題\"\n",
        "\n",
        "```"
      ],
      "metadata": {
        "id": "lI28TOljRmmm"
      }
    },
    {
      "cell_type": "code",
      "execution_count": 18,
      "metadata": {
        "colab": {
          "base_uri": "https://localhost:8080/"
        },
        "id": "pVcYX1juRYQ2",
        "outputId": "050bea03-e96f-4400-b8fb-cfe01c4bfd51"
      },
      "outputs": [
        {
          "output_type": "stream",
          "name": "stdout",
          "text": [
            "贏(W)\n",
            "輸(L)\n",
            "平手(E)\n",
            "平手(E)\n",
            "贏(W)\n",
            "輸(L)\n",
            "輸(L)\n",
            "總體: LOSE\n"
          ]
        }
      ],
      "source": [
        "import random\n",
        "\n",
        "# 隨機一個整數 -1: 輸 0: 平手 1: 贏\n",
        "\n",
        "trans = [\"輸(L)\", \"平手(E)\", \"贏(W)\"]\n",
        "\n",
        "win, even, lose = 0, 0, 0\n",
        "# 條件1: win < 3\n",
        "# 條件2: lose < 3\n",
        "# 當 我還沒贏三次 而且 對手還沒贏三次 我們就繼續完(O)\n",
        "# 當 我還沒贏三次 或者 對手還沒贏三次 我們就繼續完(x)\n",
        "# -> 每個人都要贏三次以上才能結束\n",
        "while win < 3 and lose < 3:\n",
        "    result = random.randint(-1, 1)\n",
        "    print(trans[result+1])\n",
        "    if result == -1:\n",
        "        lose = lose + 1\n",
        "    elif result == 0:\n",
        "        even = even + 1\n",
        "    elif result == 1:\n",
        "        win = win + 1\n",
        "\n",
        "if win > lose:\n",
        "    print(\"總體: WIN\")\n",
        "else:\n",
        "    print(\"總體: LOSE\")"
      ]
    },
    {
      "cell_type": "code",
      "source": [
        "print(not \"apl\" in \"apple\")\n",
        "print(not 2 == 2)\n",
        "height = 175\n",
        "weight = 80\n",
        "age = 18\n",
        "print(age >= 18 and weight >= 80)\n",
        "print(height < 160 or weight > 70)"
      ],
      "metadata": {
        "colab": {
          "base_uri": "https://localhost:8080/"
        },
        "id": "u_3prJaIVwry",
        "outputId": "2e51badf-43db-4ae8-bc51-8971fe4cd70a"
      },
      "execution_count": 13,
      "outputs": [
        {
          "output_type": "stream",
          "name": "stdout",
          "text": [
            "True\n",
            "False\n",
            "True\n",
            "True\n"
          ]
        }
      ]
    },
    {
      "cell_type": "markdown",
      "source": [
        "```python\n",
        "while 永遠對的描述: 無窮迴圈\n",
        "-> while True\n",
        "\n",
        "配合break: 跳出迴圈\n",
        "\n",
        "while False(基本上用不到)\n",
        "\n",
        "```"
      ],
      "metadata": {
        "id": "TC8aZ_Ood6Fb"
      }
    },
    {
      "cell_type": "code",
      "source": [
        "import random\n",
        "\n",
        "# 隨機一個整數 -1: 輸 0: 平手 1: 贏\n",
        "\n",
        "trans = [\"輸(L)\", \"平手(E)\", \"贏(W)\"]\n",
        "\n",
        "win, even, lose = 0, 0, 0\n",
        "\n",
        "while True:\n",
        "    result = random.randint(-1, 1)\n",
        "    print(trans[result+1])\n",
        "    if result == -1:\n",
        "        lose = lose + 1\n",
        "    elif result == 0:\n",
        "        even = even + 1\n",
        "    elif result == 1:\n",
        "        win = win + 1\n",
        "\n",
        "    # 判斷改在這\n",
        "    # 1. 妳不用在while後面塞下所有條件, 甚至妳不用塞一堆and/or(地點自由)\n",
        "    # 2. 任意時間判斷(時間自由)\n",
        "    # 3. 是妳可以做完收尾工作才結束迴圈(流程自由)\n",
        "    # 4. 隱性好處: 有時候結束講中文會比較容易\n",
        "    if win >= 3:\n",
        "        print(\"總體: WIN\")\n",
        "        break\n",
        "    elif lose >= 3:\n",
        "        print(\"總體: LOSE\")\n",
        "        break"
      ],
      "metadata": {
        "colab": {
          "base_uri": "https://localhost:8080/"
        },
        "id": "BEpDm0IidyQ4",
        "outputId": "26f97a66-224a-4600-c14c-87d6ba54d28f"
      },
      "execution_count": 20,
      "outputs": [
        {
          "output_type": "stream",
          "name": "stdout",
          "text": [
            "平手(E)\n",
            "平手(E)\n",
            "輸(L)\n",
            "輸(L)\n",
            "平手(E)\n",
            "平手(E)\n",
            "贏(W)\n",
            "贏(W)\n",
            "贏(W)\n",
            "總體: WIN\n"
          ]
        }
      ]
    }
  ]
}