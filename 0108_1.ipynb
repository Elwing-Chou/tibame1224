{
  "nbformat": 4,
  "nbformat_minor": 0,
  "metadata": {
    "colab": {
      "provenance": [],
      "authorship_tag": "ABX9TyMSNIc2PIL+LYoXg+Atfqo3",
      "include_colab_link": true
    },
    "kernelspec": {
      "name": "python3",
      "display_name": "Python 3"
    },
    "language_info": {
      "name": "python"
    }
  },
  "cells": [
    {
      "cell_type": "markdown",
      "metadata": {
        "id": "view-in-github",
        "colab_type": "text"
      },
      "source": [
        "<a href=\"https://colab.research.google.com/github/Elwing-Chou/tibame1224/blob/main/0108_1.ipynb\" target=\"_parent\"><img src=\"https://colab.research.google.com/assets/colab-badge.svg\" alt=\"Open In Colab\"/></a>"
      ]
    },
    {
      "cell_type": "markdown",
      "source": [
        "HTML格式\n",
        "\n",
        "```python\n",
        "長方形區塊構成, 一個包含一個\n",
        "\n",
        "<a href=\"網址\"> -> start\n",
        "\n",
        "</a> -> end\n",
        "\n",
        "1. 名字: 決定它的功能\n",
        "  !!! 開始和結束都寫一遍\n",
        "  a: 超連結\n",
        "  img/video: 圖片/影片\n",
        "\n",
        "2. 屬性: 決定這個特別區塊的一些細微屬性\n",
        "  !!! 寫在開頭的位置\n",
        "  !!! 屬性名=\"value\"\n",
        "  a href=\"網址\"\n",
        "  img/video src=\"網址\"\n",
        "\n",
        "3. 內容: 顯示文字\n",
        "  !!! 寫在開始和結束之間\n",
        "```"
      ],
      "metadata": {
        "id": "nckGUpNFjfZ6"
      }
    },
    {
      "cell_type": "code",
      "execution_count": null,
      "metadata": {
        "id": "CiHOqtIzjZhv"
      },
      "outputs": [],
      "source": []
    }
  ]
}