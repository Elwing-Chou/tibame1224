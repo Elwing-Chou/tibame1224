{
  "nbformat": 4,
  "nbformat_minor": 0,
  "metadata": {
    "colab": {
      "provenance": [],
      "authorship_tag": "ABX9TyPYGDIVoG32vPYE4M7zepYL",
      "include_colab_link": true
    },
    "kernelspec": {
      "name": "python3",
      "display_name": "Python 3"
    },
    "language_info": {
      "name": "python"
    }
  },
  "cells": [
    {
      "cell_type": "markdown",
      "metadata": {
        "id": "view-in-github",
        "colab_type": "text"
      },
      "source": [
        "<a href=\"https://colab.research.google.com/github/Elwing-Chou/tibame1224/blob/main/0108_1.ipynb\" target=\"_parent\"><img src=\"https://colab.research.google.com/assets/colab-badge.svg\" alt=\"Open In Colab\"/></a>"
      ]
    },
    {
      "cell_type": "markdown",
      "source": [
        "HTML格式\n",
        "\n",
        "```python\n",
        "長方形區塊構成, 一個包含一個\n",
        "\n",
        "<a href=\"網址\"> -> start\n",
        "\n",
        "</a> -> end\n",
        "\n",
        "1. 名字: 決定它的功能\n",
        "  !!! 開始和結束都寫一遍\n",
        "  a: 超連結\n",
        "  img/video: 圖片/影片\n",
        "\n",
        "2. 屬性: 決定這個特別區塊的一些細微屬性\n",
        "  !!! 寫在開頭的位置\n",
        "  !!! 屬性名=\"value\"\n",
        "  a href=\"網址\"\n",
        "  img/video src=\"網址\"\n",
        "\n",
        "3. 內容: 顯示文字\n",
        "  !!! 寫在開始和結束之間\n",
        "```"
      ],
      "metadata": {
        "id": "nckGUpNFjfZ6"
      }
    },
    {
      "cell_type": "markdown",
      "source": [
        "```python\n",
        "\n",
        "網頁由三個東西構成(網頁前端):\n",
        "1. 內容(main): HTML\n",
        "2. 排版: CSS\n",
        "3. 動態: JavsScript語法\n",
        "  !!! 某個動作觸發了某些程式碼, 最後送出一個網址去得到更多東西\n",
        "  !!! 但我們care的是那個網址, 很少很少很少妳會真的想知道她怎麼觸發的\n",
        "  !!! 所以動態對你而言不需要認真研究\n",
        "\n",
        "```"
      ],
      "metadata": {
        "id": "l7notWtNuBfW"
      }
    },
    {
      "cell_type": "markdown",
      "source": [
        "```python\n",
        "\n",
        "CSS語法: 選到妳要排版的區塊, 加上排版\n",
        "1. 利用區塊的名字:\n",
        "a{\n",
        "    名:值\n",
        "}\n",
        "!!! 但大部分時間我不是要選所有的超連結\n",
        "!!! 以我們上面介紹的HTML, 我是分不出來特定的超連結\n",
        "!!! 所以我們會特別在HTML區塊上, 加上特別的屬性\n",
        "!!! 這特別的屬性是為了排版而生, 讓我可以分出這些區塊\n",
        "!!! 兩個特別屬性\n",
        "!!! class=\"分類1 分類2 分類3\"\n",
        "\n",
        "2. 利用分類(class)屬性\n",
        "(e.g. class=\"good bad\"\n",
        ".good{\n",
        "}\n",
        "\n",
        "!!! id=\"身分證\"\n",
        "3. 針對id屬性\n",
        "(e.g. id=\"abc\")\n",
        "#abc{\n",
        "}\n",
        "\n",
        "```\n",
        "\n",
        "```python\n",
        "a{\n",
        "    background-color:red;\n",
        "}\n",
        "\n",
        "# 10px 20px\n",
        ".js-thumbnail-img {\n",
        "    border-radius: 50%;\n",
        "}\n",
        "```"
      ],
      "metadata": {
        "id": "MElfxS6L1Hjk"
      }
    },
    {
      "cell_type": "code",
      "source": [
        "# https://tabelog.com/tw/tokyo/rstLst/?SrtT=rt\n",
        "# https://tabelog.com/tw/tokyo/rstLst/1/?SrtT=rt\n",
        "import urllib.request as req\n",
        "# beautifulsoup4\n",
        "import bs4 as bs\n",
        "\n",
        "url = \"https://tabelog.com/tw/tokyo/rstLst/1/?SrtT=rt\"\n",
        "response = req.urlopen(url)\n",
        "# content = response.read()\n",
        "# json.loads做型態轉換\n",
        "html = bs.BeautifulSoup(response)\n",
        "# 區塊形態: 兩個專屬功能\n",
        "# find 找第一個 find_all 找所有\n",
        "# 參數1: html名字 參數2: 篩選條件\n",
        "link = html.find(\"a\", {\"class\":\"list-rst__rst-name-target\"})\n",
        "print(link)\n",
        "# 找到妳想要的區塊以後, 妳會想要萃取\n",
        "# 1. 特殊屬性(字典): link[\"href\"]\n",
        "# 2. 內容(專屬值): link.text\n",
        "# 程式語言基本概念: 一個形態可以擁有兩種東西\n",
        "# a. 專屬功能: 形態.功能() -> 人.吃飯(1hour)\n",
        "# b. 專屬值: 形態.值 -> 人.姓名\n",
        "print(link[\"href\"])\n",
        "print(link.text)"
      ],
      "metadata": {
        "colab": {
          "base_uri": "https://localhost:8080/"
        },
        "id": "rGGG9orx7EDq",
        "outputId": "f2c97125-249f-4cc9-be0f-d11c18d03841"
      },
      "execution_count": 1,
      "outputs": [
        {
          "output_type": "stream",
          "name": "stdout",
          "text": [
            "<a class=\"list-rst__rst-name-target cpy-rst-name\" data-list-dest=\"item_top\" href=\"https://tabelog.com/tw/tokyo/A1302/A130204/13018162/\" rel=\"noopener\" target=\"_blank\">Nihonbashi Kakigaracho Sugita</a>\n",
            "https://tabelog.com/tw/tokyo/A1302/A130204/13018162/\n",
            "Nihonbashi Kakigaracho Sugita\n"
          ]
        }
      ]
    }
  ]
}