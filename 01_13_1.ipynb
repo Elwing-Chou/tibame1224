{
  "nbformat": 4,
  "nbformat_minor": 0,
  "metadata": {
    "colab": {
      "provenance": [],
      "authorship_tag": "ABX9TyM5PivO+pa9yjTPi3Y1Q5ie",
      "include_colab_link": true
    },
    "kernelspec": {
      "name": "python3",
      "display_name": "Python 3"
    },
    "language_info": {
      "name": "python"
    }
  },
  "cells": [
    {
      "cell_type": "markdown",
      "metadata": {
        "id": "view-in-github",
        "colab_type": "text"
      },
      "source": [
        "<a href=\"https://colab.research.google.com/github/Elwing-Chou/tibame1224/blob/main/01_13_1.ipynb\" target=\"_parent\"><img src=\"https://colab.research.google.com/assets/colab-badge.svg\" alt=\"Open In Colab\"/></a>"
      ]
    },
    {
      "cell_type": "markdown",
      "source": [
        "# Pandas\n",
        "\n",
        "```PYTHON\n",
        "1. 從無生有一個表格\n",
        "    Step1. 你要準備一個空的List\n",
        "    Step2. 把妳的每一筆資料準備成一個Dict, 放進List裡\n",
        "    Step3. 轉成DataFrame儲存\n",
        "\n",
        "    [danmu, danmu,..]\n",
        "```"
      ],
      "metadata": {
        "id": "ucHrCMvvQEGM"
      }
    },
    {
      "cell_type": "code",
      "execution_count": null,
      "metadata": {
        "id": "mNEGUL92Ptbu"
      },
      "outputs": [],
      "source": [
        "import urllib.request as req\n",
        "import bs4 as bs\n",
        "# Step 0.\n",
        "import pandas as pd\n",
        "\n",
        "# Step1. 準備一個空的List\n",
        "table = []\n",
        "page = 55\n",
        "while True:\n",
        "    print(\"頁數:\", page)\n",
        "    url = \"https://tabelog.com/tw/tokyo/rstLst/{}/?SrtT=rt\".format(page)\n",
        "    page = page + 1\n",
        "    response = req.urlopen(url)\n",
        "    html = bs.BeautifulSoup(response)\n",
        "\n",
        "    r_list = html.find_all(\"div\", {\"class\":\"list-rst__body\"})\n",
        "    if len(r_list) == 0:\n",
        "        break\n",
        "\n",
        "    for r in r_list:\n",
        "        en_name = r.find(\"a\", {\"class\":\"list-rst__rst-name-target\"})\n",
        "        en_name_href = en_name[\"href\"]\n",
        "        en_name_text = en_name.text\n",
        "        area = r.find(\"div\", {\"class\":\"list-rst__area-genre\"})\n",
        "        area_text = area.text.strip()\n",
        "        intro = r.find(\"p\", {\"class\":\"list-rst__pr-title\"})\n",
        "        if intro == None:\n",
        "            intro_text = \"無\"\n",
        "        else:\n",
        "            intro_text = intro.text.strip()\n",
        "        rating = r.find(\"span\", {\"class\":\"c-rating__val\"})\n",
        "        rating_text = rating.text\n",
        "        prices = r.find_all(\"span\", {\"class\":\"c-rating-v3__val\"})\n",
        "        dinner_price = prices[0].text\n",
        "        lunch_price = prices[1].text\n",
        "        holiday = r.find(\"span\", {\"class\":\"list-rst__holiday-text\"})\n",
        "        holiday_text = holiday.text\n",
        "\n",
        "        print(rating_text)\n",
        "        print(en_name_text)\n",
        "        print(en_name_href)\n",
        "        print(area_text)\n",
        "        print(intro_text)\n",
        "        print(holiday_text)\n",
        "        print(\"晚間價錢:\", dinner_price, \"午間價錢:\", lunch_price)\n",
        "        print(\"-\" * 30)\n",
        "\n",
        "        # Step2. 每一筆資料就是一個字典\n",
        "        data = {\n",
        "            \"name(en)\": en_name_text,\n",
        "            \"url\": en_name_href,\n",
        "            \"area\": area_text,\n",
        "            \"intro\": intro_text,\n",
        "            \"rating\": rating_text,\n",
        "        }\n",
        "        table.append(data)\n",
        "\n",
        "# Step3. 轉成DataFrame儲存\n",
        "df = pd.DataFrame(table,\n",
        "          columns=[\"name(en)\", \"url\", \"area\", \"intro\", \"rating\"])\n",
        "df.to_csv(\"tabelog.csv\", encoding=\"utf-8\")"
      ]
    }
  ]
}