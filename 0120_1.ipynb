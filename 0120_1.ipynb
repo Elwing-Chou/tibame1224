{
  "nbformat": 4,
  "nbformat_minor": 0,
  "metadata": {
    "colab": {
      "provenance": [],
      "authorship_tag": "ABX9TyNrPXILWmKyvS0yCBBqcSas",
      "include_colab_link": true
    },
    "kernelspec": {
      "name": "python3",
      "display_name": "Python 3"
    },
    "language_info": {
      "name": "python"
    }
  },
  "cells": [
    {
      "cell_type": "markdown",
      "metadata": {
        "id": "view-in-github",
        "colab_type": "text"
      },
      "source": [
        "<a href=\"https://colab.research.google.com/github/Elwing-Chou/tibame1224/blob/main/0120_1.ipynb\" target=\"_parent\"><img src=\"https://colab.research.google.com/assets/colab-badge.svg\" alt=\"Open In Colab\"/></a>"
      ]
    },
    {
      "cell_type": "markdown",
      "source": [],
      "metadata": {
        "id": "x0HvX_dwtQOx"
      }
    },
    {
      "cell_type": "code",
      "execution_count": null,
      "metadata": {
        "id": "RNYjcUfbs6ba"
      },
      "outputs": [],
      "source": [
        "# demo一下requests函式庫\n",
        "import requests\n",
        "import bs4 as bs\n",
        "url = \"https://www.ptt.cc/bbs/Beauty/index3950.html\"\n",
        "response = requests.get(url)\n",
        "print(response.status_code)\n",
        "# 你可以看他當初送出的headers\n",
        "print(response.request.headers)\n",
        "print(response.headers)\n",
        "# !!!!!!!!!!!!!! 記得要用的時候要.text\n",
        "bs.BeautifulSoup(response.text)"
      ]
    },
    {
      "cell_type": "code",
      "source": [
        "import json\n",
        "import requests\n",
        "import pandas as pd\n",
        "\n",
        "url = \"https://www.thsrc.com.tw/TimeTable/Search\"\n",
        "data = {\n",
        "    \"SearchType\": \"S\",\n",
        "    \"Lang\": \"TW\",\n",
        "    \"StartStation\": \"NanGang\",\n",
        "    \"EndStation\": \"ZuoYing\",\n",
        "    \"OutWardSearchDate\": \"2025/01/20\",\n",
        "    \"OutWardSearchTime\": \"11:30\",\n",
        "    \"ReturnSearchDate\": \"2025/01/20\",\n",
        "    \"ReturnSearchTime\": \"11:30\",\n",
        "    \"DiscountType\":\"\",\n",
        "}\n",
        "h = {\n",
        "    \"user-agent\":\"Mozilla/5.0 (Windows NT 10.0; Win64; x64) AppleWebKit/537.36 (KHTML, like Gecko) Chrome/131.0.0.0 Safari/537.36 Edg/131.0.0.0\"\n",
        "}\n",
        "response = requests.post(url, data, headers=h)\n",
        "# print(response.status_code)\n",
        "result = json.loads(response.text)\n",
        "# result->dict result[\"data\"]->dict result[\"data\"][\"depature...\"]->dict\n",
        "data = result[\"data\"][\"DepartureTable\"]\n",
        "train_list = data[\"TrainItem\"]\n",
        "# train->dict\n",
        "for train in train_list:\n",
        "    train_number = train[\"TrainNumber\"]\n",
        "    train_depart_time = train[\"DepartureTime\"]\n",
        "    train_dest_time = train[\"DestinationTime\"]\n",
        "    train_duration = train[\"Duration\"]\n",
        "    print(train_number,\n",
        "       train_depart_time,\n",
        "       train_dest_time,\n",
        "       train_duration)\n",
        "\n",
        "df = pd.json_normalize(train_list)\n",
        "df.to_csv(\"0120.csv\", encoding=\"utf-8\")"
      ],
      "metadata": {
        "id": "6o9OuiO3uiPI"
      },
      "execution_count": null,
      "outputs": []
    },
    {
      "cell_type": "code",
      "source": [
        "# selenium: 如果你被擋住(妳是自動軟體.....)\n",
        "# undeteced-chromedriver: https://github.com/ultrafunkamsterdam/undetected-chromedriver/tree/master\n",
        "# 1. selenium 2. webdriver-manager\n",
        "import time\n",
        "from selenium.webdriver.chrome.service import Service\n",
        "from webdriver_manager.chrome import ChromeDriverManager\n",
        "from selenium import webdriver\n",
        "from selenium.webdriver.common.by import By\n",
        "from selenium.webdriver.common.keys import Keys\n",
        "\n",
        "import undetected_chromedriver as uc\n",
        "\n",
        "if __name__ == '__main__':\n",
        "    driver = uc.Chrome(use_subprocess=False)\n",
        "\n",
        "    driver.get(\"https://www.google.com\")\n",
        "    driver.maximize_window()\n",
        "\n",
        "    e = driver.find_element(By.CLASS_NAME, \"gLFyf\")\n",
        "    e.send_keys(\"農曆新年\")\n",
        "    e.send_keys(Keys.ENTER)\n",
        "\n",
        "    time.sleep(3)\n",
        "    driver.quit()"
      ],
      "metadata": {
        "id": "z7Icm4r2g_M8"
      },
      "execution_count": null,
      "outputs": []
    }
  ]
}