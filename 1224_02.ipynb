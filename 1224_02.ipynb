{
  "nbformat": 4,
  "nbformat_minor": 0,
  "metadata": {
    "colab": {
      "provenance": [],
      "authorship_tag": "ABX9TyNeEnEEeP6OKMDsqAFRrX0o",
      "include_colab_link": true
    },
    "kernelspec": {
      "name": "python3",
      "display_name": "Python 3"
    },
    "language_info": {
      "name": "python"
    }
  },
  "cells": [
    {
      "cell_type": "markdown",
      "metadata": {
        "id": "view-in-github",
        "colab_type": "text"
      },
      "source": [
        "<a href=\"https://colab.research.google.com/github/Elwing-Chou/tibame1224/blob/main/1224_02.ipynb\" target=\"_parent\"><img src=\"https://colab.research.google.com/assets/colab-badge.svg\" alt=\"Open In Colab\"/></a>"
      ]
    },
    {
      "cell_type": "markdown",
      "source": [
        "```python\n",
        "1. 環境設置\n",
        "   a. 本地環境:\n",
        "        a.1. 翻譯器: python 3.x\n",
        "        a.2. 輔助工具: Pycharm/VSCode\n",
        "Anaconda(X): 大集合\n",
        "   b. 線上環境:\n",
        "        b.1. repl.it\n",
        "        b.2. colab\n",
        "\n",
        "2. 一個完整的python程式就是.py檔案\n",
        "   從第一行執行到最後一行\n",
        "\n",
        "   colab她不能說是一個完整的python檔案\n",
        "   她是一個練習簿的感覺 你可以執行幾行\n",
        "   看一下結果 再執行幾行 以.ipynb結尾\n",
        "   (使用的是python套件 jupyter notebook)\n",
        "```\n",
        "\n",
        "\n",
        "\n"
      ],
      "metadata": {
        "id": "yRDiXRZolrp2"
      }
    },
    {
      "cell_type": "markdown",
      "source": [
        "```python\n",
        "第一個程式: bmi程式\n",
        "1. 可以讓使用者自由輸入她的身高體重\n",
        "2. 幫他計算bmi\n",
        "3. 給他點bmi建議\n",
        "\n",
        "\n",
        "1. 註解: 影響\"可讀性\"的一個重要要素\n",
        "  # xxxxx\n",
        "\n",
        "2. 功能: 參數 print(參數)\n",
        "  !!! 就算沒有參數, 也要有小括號 xxx()\n",
        "\n",
        "3. 排版也是影響\"可讀性\"很重要的要素\n",
        "  !!! \\控一格...\n",
        "  !!! 可以參考 pep coding style\n",
        "\n",
        "4. 不要重複寫: =\n",
        "  a. 5 == 3 + 2(左右是否相等?)\n",
        "  b. x = 3(取替)\n",
        "\n",
        "````"
      ],
      "metadata": {
        "id": "MBlv0u8Clx-j"
      }
    },
    {
      "cell_type": "code",
      "execution_count": 6,
      "metadata": {
        "colab": {
          "base_uri": "https://localhost:8080/"
        },
        "id": "aqOoJ5iEloIE",
        "outputId": "4da51a55-9776-4ae8-be0f-5df3e7e02b31"
      },
      "outputs": [
        {
          "output_type": "stream",
          "name": "stdout",
          "text": [
            "70\n",
            "175\n",
            "22.857142857142858\n"
          ]
        }
      ],
      "source": [
        "# bmi = weight(kg) / height(m) ^ 2\n",
        "weight = 70\n",
        "height = 175\n",
        "print(weight)\n",
        "print(height)\n",
        "print(weight / (height / 100) ** 2)"
      ]
    }
  ]
}