{
  "nbformat": 4,
  "nbformat_minor": 0,
  "metadata": {
    "colab": {
      "provenance": [],
      "authorship_tag": "ABX9TyPn/hDrmMJuuY9q+vDVnVgY",
      "include_colab_link": true
    },
    "kernelspec": {
      "name": "python3",
      "display_name": "Python 3"
    },
    "language_info": {
      "name": "python"
    }
  },
  "cells": [
    {
      "cell_type": "markdown",
      "metadata": {
        "id": "view-in-github",
        "colab_type": "text"
      },
      "source": [
        "<a href=\"https://colab.research.google.com/github/Elwing-Chou/tibame1224/blob/main/1224_02.ipynb\" target=\"_parent\"><img src=\"https://colab.research.google.com/assets/colab-badge.svg\" alt=\"Open In Colab\"/></a>"
      ]
    },
    {
      "cell_type": "markdown",
      "source": [
        "```python\n",
        "1. 環境設置\n",
        "   a. 本地環境:\n",
        "        a.1. 翻譯器: python 3.x\n",
        "        a.2. 輔助工具: Pycharm/VSCode\n",
        "Anaconda(X): 大集合\n",
        "   b. 線上環境:\n",
        "        b.1. repl.it\n",
        "        b.2. colab\n",
        "\n",
        "2. 一個完整的python程式就是.py檔案\n",
        "   從第一行執行到最後一行\n",
        "\n",
        "   colab她不能說是一個完整的python檔案\n",
        "   她是一個練習簿的感覺 你可以執行幾行\n",
        "   看一下結果 再執行幾行 以.ipynb結尾\n",
        "   (使用的是python套件 jupyter notebook)\n",
        "```\n",
        "\n",
        "\n",
        "\n"
      ],
      "metadata": {
        "id": "yRDiXRZolrp2"
      }
    },
    {
      "cell_type": "markdown",
      "source": [
        "```python\n",
        "第一個程式: bmi程式\n",
        "1. 可以讓使用者自由輸入她的身高體重\n",
        "2. 幫他計算bmi\n",
        "3. 給他點bmi建議\n",
        "\n",
        "\n",
        "1. 註解: 影響\"可讀性\"的一個重要要素\n",
        "  # xxxxx\n",
        "\n",
        "2. 功能: 參數 print(參數)\n",
        "  !!! 就算沒有參數, 也要有小括號 xxx()\n",
        "\n",
        "3. 排版也是影響\"可讀性\"很重要的要素\n",
        "  !!! \\控一格...\n",
        "  !!! 可以參考 pep coding style\n",
        "\n",
        "4. 不要重複寫: =\n",
        "  a. 5 == 3 + 2(左右是否相等?)\n",
        "  b. x = 3(取替)\n",
        "\n",
        "5. 型態(Type):\n",
        "  a. 數字型態: 包含整數(int) 小數(float)\n",
        "  b. 字串型態(str): \"xxx\"\n",
        "  !!! 任何符號都只是一個字\n",
        "  !!! 電話: 字串\n",
        "\n",
        "6. python對於型態是非常嚴格的一種語言\n",
        "  !!! 絕對不會\"偷偷\"幫你做任何型態轉換\n",
        "  !!! 數字+數字 ok 字串+字串 ok 字串+數字(X)\n",
        "  !!! \"ab\" + \"cd\" -> \"abcd\"\n",
        "\n",
        "7. 型態轉換功能: int() float() str()\n",
        "\n",
        "8. 如果...否則(IF-ELSE)\n",
        "\n",
        "if bmi > 25:\n",
        "    print\n",
        "    print\n",
        "    print\n",
        "else:\n",
        "    print\n",
        "\n",
        "縮排排版(冒號/TAB案件)\n",
        "Elwing:\n",
        "    xxxxxx\n",
        "    xxxxx\n",
        "\n",
        "9. 讓使用者輸入的功能\n",
        "input(字串)\n",
        "\n",
        "!!! 剛剛你學會了參數, 你要多學會另外一件事: 回傳值\n",
        "!!! 回傳值: 做完這個功能所丟回來的\"新的\"答案(check type)\n",
        "!!! 方便記憶: 你只要沒有做=設置, 值就是不會改變的\n",
        "\n",
        "```"
      ],
      "metadata": {
        "id": "MBlv0u8Clx-j"
      }
    },
    {
      "cell_type": "code",
      "execution_count": 32,
      "metadata": {
        "colab": {
          "base_uri": "https://localhost:8080/"
        },
        "id": "aqOoJ5iEloIE",
        "outputId": "aa425647-4429-4131-e170-a08b984a69db"
      },
      "outputs": [
        {
          "output_type": "stream",
          "name": "stdout",
          "text": [
            "請輸入體重:80.2\n",
            "請輸入身高:175.3\n",
            "你的體重是:80.2\n",
            "你的身高是:175.3\n",
            "bmi是:26.098198866322875\n",
            "過重\n",
            "少吃多動\n"
          ]
        }
      ],
      "source": [
        "# bmi = weight(kg) / height(m) ^ 2\n",
        "weight = float(input(\"請輸入體重:\"))\n",
        "height = float(input(\"請輸入身高:\"))\n",
        "bmi = weight / (height / 100) ** 2\n",
        "print(\"你的體重是:\" + str(weight))\n",
        "print(\"你的身高是:\" + str(height))\n",
        "print(\"bmi是:\" + str(bmi))\n",
        "\n",
        "if bmi > 25:\n",
        "    print(\"過重\")\n",
        "    print(\"少吃多動\")\n",
        "else:\n",
        "    print(\"正常\")"
      ]
    },
    {
      "cell_type": "markdown",
      "source": [
        "```python\n",
        "人類使用的數數方式叫做十進位\n",
        "0 1 2 3 4 ... 9 10 11\n",
        "\n",
        "八進味\n",
        "0 1 2 3 4 7 10 11 17 20 77 100\n",
        "\n",
        "電腦是二進味\n",
        "0 1 10 11 100 101 110 111 1000\n",
        "\n",
        "有限小數 -> 二進位還是有限小數(?)\n",
        "\n",
        "1/3 -> 0.333333(十進位無限) -> 0.1(三進位有限)\n",
        "\n",
        "所以你再說兩個小數的相等的時候不是說他們一模一樣, 而是他們的誤差小於多少你就認為這兩個小數相等\n",
        "```"
      ],
      "metadata": {
        "id": "ciYWmhJAvQ1Y"
      }
    },
    {
      "cell_type": "code",
      "source": [
        "import decimal\n",
        "print(3 + 3.14)\n",
        "print(decimal.Decimal(\"3\") + decimal.Decimal(\"3.14\"))"
      ],
      "metadata": {
        "colab": {
          "base_uri": "https://localhost:8080/"
        },
        "id": "SBUp2eshu6AU",
        "outputId": "76822799-3ff8-4fc5-e4d4-e72527286aaf"
      },
      "execution_count": 12,
      "outputs": [
        {
          "output_type": "stream",
          "name": "stdout",
          "text": [
            "6.140000000000001\n",
            "6.14\n"
          ]
        }
      ]
    },
    {
      "cell_type": "code",
      "source": [
        "# demo 回傳值\n",
        "a = 3.6\n",
        "b = int(a)\n",
        "print(a)\n",
        "print(b)"
      ],
      "metadata": {
        "colab": {
          "base_uri": "https://localhost:8080/"
        },
        "id": "mTSUQicDOo2P",
        "outputId": "a3aae5a7-04cc-4378-9f70-6f5ea824680c"
      },
      "execution_count": 26,
      "outputs": [
        {
          "output_type": "stream",
          "name": "stdout",
          "text": [
            "3.6\n",
            "3\n"
          ]
        }
      ]
    },
    {
      "cell_type": "code",
      "source": [
        "# !!! 沒有=, 值就不會改\n",
        "a = 3\n",
        "b = a + 2\n",
        "print(a)\n",
        "print(b)"
      ],
      "metadata": {
        "colab": {
          "base_uri": "https://localhost:8080/"
        },
        "id": "pycnuOBWQM6i",
        "outputId": "2ba411a2-a01c-464b-d280-fa3f5a88b1ba"
      },
      "execution_count": 28,
      "outputs": [
        {
          "output_type": "stream",
          "name": "stdout",
          "text": [
            "3\n",
            "5\n"
          ]
        }
      ]
    },
    {
      "cell_type": "markdown",
      "source": [
        "# 剪刀石頭布\n",
        "\n",
        "```python\n",
        "\n",
        "1. 想永遠比寫來的重要\n",
        "\n",
        "2. 先想核心 3 x 3(bad) 下一個贏上一個\n",
        "\n",
        "3. 想想細節: 該用什麼表示\n",
        "只要有大小(隱含)關係: 整數(從0開始)\n",
        "你要讓別人輸入: 整數\n",
        "\n",
        "4. 當你使用別隻.py的時候 你都要先引用(import)\n",
        "import .py名\n",
        "(把import後面照抄)....\n",
        "\n",
        "5. .是中文的\"的\"\n",
        "\n",
        "6. 清單型態(list)\n",
        "trans = [\"剪刀\", \"十頭\", \"布\"]\n",
        "清單在創的時候, python就會預設給她編號(0, 1, 2...)\n",
        "\n",
        "key(編號)-value: 拿key去查value\n",
        "查東西[key]\n",
        "\n",
        "```"
      ],
      "metadata": {
        "id": "KAMapjccWTrV"
      }
    },
    {
      "cell_type": "code",
      "source": [
        "import random\n",
        "\n",
        "my = int(input(\"0.剪刀 1.石頭 2.布:\"))\n",
        "com = random.randint(0, 2)\n",
        "trans = [\"剪刀\", \"石頭\", \"布\"]\n",
        "print(\"我出的:\", trans[my])\n",
        "print(\"電腦的:\", trans[com])"
      ],
      "metadata": {
        "colab": {
          "base_uri": "https://localhost:8080/"
        },
        "id": "oPkJl9uwZcLY",
        "outputId": "e7734286-a874-4d08-ceaf-2d19bd619fff"
      },
      "execution_count": 47,
      "outputs": [
        {
          "output_type": "stream",
          "name": "stdout",
          "text": [
            "0.剪刀 1.石頭 2.布:0\n",
            "我出的: 剪刀\n",
            "電腦的: 布\n"
          ]
        }
      ]
    },
    {
      "cell_type": "code",
      "source": [
        "# key-value查詢\n",
        "s = \"abcdef\"\n",
        "s[5]"
      ],
      "metadata": {
        "colab": {
          "base_uri": "https://localhost:8080/"
        },
        "id": "faSx8_mCi5Wl",
        "outputId": "53bee089-e34b-4481-f260-d70ca2e3b0a2"
      },
      "execution_count": 46,
      "outputs": [
        {
          "output_type": "execute_result",
          "data": {
            "text/plain": [
              "5"
            ]
          },
          "metadata": {},
          "execution_count": 46
        }
      ]
    }
  ]
}