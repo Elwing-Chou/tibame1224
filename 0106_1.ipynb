{
  "nbformat": 4,
  "nbformat_minor": 0,
  "metadata": {
    "colab": {
      "provenance": [],
      "authorship_tag": "ABX9TyMq9TFuV6BhZapLX0wdllV0",
      "include_colab_link": true
    },
    "kernelspec": {
      "name": "python3",
      "display_name": "Python 3"
    },
    "language_info": {
      "name": "python"
    }
  },
  "cells": [
    {
      "cell_type": "markdown",
      "metadata": {
        "id": "view-in-github",
        "colab_type": "text"
      },
      "source": [
        "<a href=\"https://colab.research.google.com/github/Elwing-Chou/tibame1224/blob/main/0106_1.ipynb\" target=\"_parent\"><img src=\"https://colab.research.google.com/assets/colab-badge.svg\" alt=\"Open In Colab\"/></a>"
      ]
    },
    {
      "cell_type": "markdown",
      "source": [
        "# 字典形態\n",
        "\n",
        "```python\n",
        "一副撲克牌: [排, 排, ...]\n",
        "整班學生: [學生, 學生, ...]\n",
        "\n",
        "字典型態: 把很多小東西聚集起來, 變成一個複雜的東西\n",
        "\n",
        "字典在每一組的地方, 妳都要幫她準備一個key(是有形態)\n",
        "\n",
        "key: 數字/字串\n",
        "key-value: 連連看\n",
        "\n",
        "名稱 = {\n",
        "    \"name\":\"Elwing\",\n",
        "    \"height\":175\n",
        "}\n",
        "\n",
        "? 如果你今天印出來: 發覺height在name前面有沒有問題\n",
        "-> 沒問題, 字典沒有順序性(key=0,1,2...)\n",
        "\n",
        "字典查詢: [key]\n",
        "```"
      ],
      "metadata": {
        "id": "5cCY4QxwIa96"
      }
    },
    {
      "cell_type": "code",
      "execution_count": 6,
      "metadata": {
        "colab": {
          "base_uri": "https://localhost:8080/"
        },
        "id": "_mmwCxZVIV6m",
        "outputId": "ffa7ade0-0bf3-4fae-b6cc-27034d571c66"
      },
      "outputs": [
        {
          "output_type": "stream",
          "name": "stdout",
          "text": [
            "{'name': 'Elwing', 'height': 175}\n",
            "175\n",
            "{'name': 'Elwing', 'height': 175, 'weight': 70}\n",
            "{'name': 'Elwing', 'height': 180, 'weight': 70}\n",
            "! name\n",
            "! height\n",
            "! weight\n"
          ]
        }
      ],
      "source": [
        "student = {\n",
        "    \"name\":\"Elwing\",\n",
        "    \"height\":175\n",
        "}\n",
        "print(student)\n",
        "\n",
        "print(student[\"height\"])\n",
        "\n",
        "# 口訣: 以前你怎麼使用名稱->字典[key]\n",
        "\n",
        "# weight = 80\n",
        "student[\"weight\"] = 70\n",
        "print(student)\n",
        "# height = height + 5\n",
        "student[\"height\"] = student[\"height\"] + 5\n",
        "print(student)\n",
        "\n",
        "# optional\n",
        "for key in student:\n",
        "    print(\"!\", key, student[key])"
      ]
    }
  ]
}